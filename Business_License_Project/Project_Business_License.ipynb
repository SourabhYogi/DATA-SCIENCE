{
  "nbformat": 4,
  "nbformat_minor": 0,
  "metadata": {
    "colab": {
      "name": "Project_Business_License.ipynb",
      "provenance": [],
      "collapsed_sections": [],
      "authorship_tag": "ABX9TyPOpNBtOeQLk/nv1glF/f3M",
      "include_colab_link": true
    },
    "kernelspec": {
      "name": "python3",
      "display_name": "Python 3"
    },
    "language_info": {
      "name": "python"
    }
  },
  "cells": [
    {
      "cell_type": "markdown",
      "metadata": {
        "id": "view-in-github",
        "colab_type": "text"
      },
      "source": [
        "<a href=\"https://colab.research.google.com/github/SourabhYogi/DATA-SCIENCE/blob/main/Business_License_Project/Project_Business_License.ipynb\" target=\"_parent\"><img src=\"https://colab.research.google.com/assets/colab-badge.svg\" alt=\"Open In Colab\"/></a>"
      ]
    },
    {
      "cell_type": "code",
      "execution_count": 81,
      "metadata": {
        "id": "DQDvJ7NKqVo7"
      },
      "outputs": [],
      "source": [
        "\n",
        "import pandas as pd\n",
        "import numpy as np\n",
        "import seaborn as sns\n",
        "import matplotlib.pyplot as plt\n",
        "from sklearn.model_selection import train_test_split\n",
        "from sklearn.metrics import classification_report\n"
      ]
    },
    {
      "cell_type": "code",
      "source": [
        "from google.colab import drive\n",
        "drive.mount('/content/drive')"
      ],
      "metadata": {
        "colab": {
          "base_uri": "https://localhost:8080/"
        },
        "id": "qUwA3BWj0x_q",
        "outputId": "37ad90a9-ad68-4ee2-c592-8ed49bdba8de"
      },
      "execution_count": 82,
      "outputs": [
        {
          "output_type": "stream",
          "name": "stdout",
          "text": [
            "Drive already mounted at /content/drive; to attempt to forcibly remount, call drive.mount(\"/content/drive\", force_remount=True).\n"
          ]
        }
      ]
    },
    {
      "cell_type": "code",
      "source": [
        "train_data = pd.read_csv('/content/drive/MyDrive/CSV/train_file.csv')\n",
        "train_data.head()\n"
      ],
      "metadata": {
        "colab": {
          "base_uri": "https://localhost:8080/",
          "height": 577
        },
        "id": "XeArPHe5tti0",
        "outputId": "22854983-ed81-4141-cd69-abd6d72de987"
      },
      "execution_count": 397,
      "outputs": [
        {
          "output_type": "stream",
          "name": "stderr",
          "text": [
            "/usr/local/lib/python3.7/dist-packages/IPython/core/interactiveshell.py:2882: DtypeWarning: Columns (9) have mixed types.Specify dtype option on import or set low_memory=False.\n",
            "  exec(code_obj, self.user_global_ns, self.user_ns)\n"
          ]
        },
        {
          "output_type": "execute_result",
          "data": {
            "text/plain": [
              "                 ID  LICENSE ID  ACCOUNT NUMBER  SITE NUMBER  \\\n",
              "0    35342-20020816     1256593           32811            1   \n",
              "1  1358463-20051116     1639294          262311           29   \n",
              "2  1980233-20090722     1980233          345008            1   \n",
              "3  1476582-20040211     1476582          273121            1   \n",
              "4  1141408-20080516     1896750          213785            1   \n",
              "\n",
              "                     LEGAL NAME        DOING BUSINESS AS NAME  \\\n",
              "0                  CARMEN CAHUE         CLAUDIA'S BRIDAL SHOP   \n",
              "1           ISLA TROPICAL, INC.                 ISLA TROPICAL   \n",
              "2                DJS REMODELING          DJS REMODELING, INC.   \n",
              "3      ALL-BRY CONSTRUCTION CO.      ALL-BRY CONSTRUCTION CO.   \n",
              "4  MCDONOUGH MECHANICAL SERVICE  MCDONOUGH MECHANICAL SERVICE   \n",
              "\n",
              "                      ADDRESS      CITY STATE ZIP CODE  ...  \\\n",
              "0  2625 S CENTRAL PARK AVE  1   CHICAGO    IL  60623.0  ...   \n",
              "1         2825 W MONTROSE AVE   CHICAGO    IL    60618  ...   \n",
              "2           1605  CLAVEY RD 1  HIGHLAND    IL    60035  ...   \n",
              "3              8  NORTH TRAIL    LEMONT    IL    60439  ...   \n",
              "4             4081  JOSEPH DR  WAUKEGAN    IL    60087  ...   \n",
              "\n",
              "   LICENSE TERM START DATE  LICENSE TERM EXPIRATION DATE  \\\n",
              "0      2002-08-16T00:00:00           2003-08-15T00:00:00   \n",
              "1      2005-11-16T00:00:00           2006-11-15T00:00:00   \n",
              "2      2009-07-22T00:00:00           2011-07-15T00:00:00   \n",
              "3      2004-02-11T00:00:00           2005-02-15T00:00:00   \n",
              "4      2008-05-16T00:00:00           2010-05-15T00:00:00   \n",
              "\n",
              "  LICENSE APPROVED FOR ISSUANCE          DATE ISSUED  \\\n",
              "0           2002-08-21T00:00:00  2006-04-11T00:00:00   \n",
              "1           2006-04-05T00:00:00  2006-06-12T00:00:00   \n",
              "2           2009-07-22T00:00:00  2009-07-22T00:00:00   \n",
              "3           2004-02-10T00:00:00  2004-02-11T00:00:00   \n",
              "4           2008-06-04T00:00:00  2008-06-05T00:00:00   \n",
              "\n",
              "   LICENSE STATUS CHANGE DATE   SSA   LATITUDE  LONGITUDE  \\\n",
              "0                         NaN  25.0  41.843613 -87.714618   \n",
              "1         2006-06-15T00:00:00  60.0  41.961132 -87.699626   \n",
              "2                         NaN   NaN        NaN        NaN   \n",
              "3                         NaN   NaN        NaN        NaN   \n",
              "4                         NaN   NaN        NaN        NaN   \n",
              "\n",
              "                                            LOCATION LICENSE STATUS  \n",
              "0  {'latitude': '41.843612879431845', 'longitude'...            AAI  \n",
              "1  {'latitude': '41.96113244107215', 'longitude':...            AAC  \n",
              "2                                                NaN            AAI  \n",
              "3                                                NaN            AAI  \n",
              "4                                                NaN            AAI  \n",
              "\n",
              "[5 rows x 32 columns]"
            ],
            "text/html": [
              "\n",
              "  <div id=\"df-9ea2fa8e-de70-4493-b9d4-a21ee30c8eb7\">\n",
              "    <div class=\"colab-df-container\">\n",
              "      <div>\n",
              "<style scoped>\n",
              "    .dataframe tbody tr th:only-of-type {\n",
              "        vertical-align: middle;\n",
              "    }\n",
              "\n",
              "    .dataframe tbody tr th {\n",
              "        vertical-align: top;\n",
              "    }\n",
              "\n",
              "    .dataframe thead th {\n",
              "        text-align: right;\n",
              "    }\n",
              "</style>\n",
              "<table border=\"1\" class=\"dataframe\">\n",
              "  <thead>\n",
              "    <tr style=\"text-align: right;\">\n",
              "      <th></th>\n",
              "      <th>ID</th>\n",
              "      <th>LICENSE ID</th>\n",
              "      <th>ACCOUNT NUMBER</th>\n",
              "      <th>SITE NUMBER</th>\n",
              "      <th>LEGAL NAME</th>\n",
              "      <th>DOING BUSINESS AS NAME</th>\n",
              "      <th>ADDRESS</th>\n",
              "      <th>CITY</th>\n",
              "      <th>STATE</th>\n",
              "      <th>ZIP CODE</th>\n",
              "      <th>...</th>\n",
              "      <th>LICENSE TERM START DATE</th>\n",
              "      <th>LICENSE TERM EXPIRATION DATE</th>\n",
              "      <th>LICENSE APPROVED FOR ISSUANCE</th>\n",
              "      <th>DATE ISSUED</th>\n",
              "      <th>LICENSE STATUS CHANGE DATE</th>\n",
              "      <th>SSA</th>\n",
              "      <th>LATITUDE</th>\n",
              "      <th>LONGITUDE</th>\n",
              "      <th>LOCATION</th>\n",
              "      <th>LICENSE STATUS</th>\n",
              "    </tr>\n",
              "  </thead>\n",
              "  <tbody>\n",
              "    <tr>\n",
              "      <th>0</th>\n",
              "      <td>35342-20020816</td>\n",
              "      <td>1256593</td>\n",
              "      <td>32811</td>\n",
              "      <td>1</td>\n",
              "      <td>CARMEN CAHUE</td>\n",
              "      <td>CLAUDIA'S BRIDAL SHOP</td>\n",
              "      <td>2625 S CENTRAL PARK AVE  1</td>\n",
              "      <td>CHICAGO</td>\n",
              "      <td>IL</td>\n",
              "      <td>60623.0</td>\n",
              "      <td>...</td>\n",
              "      <td>2002-08-16T00:00:00</td>\n",
              "      <td>2003-08-15T00:00:00</td>\n",
              "      <td>2002-08-21T00:00:00</td>\n",
              "      <td>2006-04-11T00:00:00</td>\n",
              "      <td>NaN</td>\n",
              "      <td>25.0</td>\n",
              "      <td>41.843613</td>\n",
              "      <td>-87.714618</td>\n",
              "      <td>{'latitude': '41.843612879431845', 'longitude'...</td>\n",
              "      <td>AAI</td>\n",
              "    </tr>\n",
              "    <tr>\n",
              "      <th>1</th>\n",
              "      <td>1358463-20051116</td>\n",
              "      <td>1639294</td>\n",
              "      <td>262311</td>\n",
              "      <td>29</td>\n",
              "      <td>ISLA TROPICAL, INC.</td>\n",
              "      <td>ISLA TROPICAL</td>\n",
              "      <td>2825 W MONTROSE AVE</td>\n",
              "      <td>CHICAGO</td>\n",
              "      <td>IL</td>\n",
              "      <td>60618</td>\n",
              "      <td>...</td>\n",
              "      <td>2005-11-16T00:00:00</td>\n",
              "      <td>2006-11-15T00:00:00</td>\n",
              "      <td>2006-04-05T00:00:00</td>\n",
              "      <td>2006-06-12T00:00:00</td>\n",
              "      <td>2006-06-15T00:00:00</td>\n",
              "      <td>60.0</td>\n",
              "      <td>41.961132</td>\n",
              "      <td>-87.699626</td>\n",
              "      <td>{'latitude': '41.96113244107215', 'longitude':...</td>\n",
              "      <td>AAC</td>\n",
              "    </tr>\n",
              "    <tr>\n",
              "      <th>2</th>\n",
              "      <td>1980233-20090722</td>\n",
              "      <td>1980233</td>\n",
              "      <td>345008</td>\n",
              "      <td>1</td>\n",
              "      <td>DJS REMODELING</td>\n",
              "      <td>DJS REMODELING, INC.</td>\n",
              "      <td>1605  CLAVEY RD 1</td>\n",
              "      <td>HIGHLAND</td>\n",
              "      <td>IL</td>\n",
              "      <td>60035</td>\n",
              "      <td>...</td>\n",
              "      <td>2009-07-22T00:00:00</td>\n",
              "      <td>2011-07-15T00:00:00</td>\n",
              "      <td>2009-07-22T00:00:00</td>\n",
              "      <td>2009-07-22T00:00:00</td>\n",
              "      <td>NaN</td>\n",
              "      <td>NaN</td>\n",
              "      <td>NaN</td>\n",
              "      <td>NaN</td>\n",
              "      <td>NaN</td>\n",
              "      <td>AAI</td>\n",
              "    </tr>\n",
              "    <tr>\n",
              "      <th>3</th>\n",
              "      <td>1476582-20040211</td>\n",
              "      <td>1476582</td>\n",
              "      <td>273121</td>\n",
              "      <td>1</td>\n",
              "      <td>ALL-BRY CONSTRUCTION CO.</td>\n",
              "      <td>ALL-BRY CONSTRUCTION CO.</td>\n",
              "      <td>8  NORTH TRAIL</td>\n",
              "      <td>LEMONT</td>\n",
              "      <td>IL</td>\n",
              "      <td>60439</td>\n",
              "      <td>...</td>\n",
              "      <td>2004-02-11T00:00:00</td>\n",
              "      <td>2005-02-15T00:00:00</td>\n",
              "      <td>2004-02-10T00:00:00</td>\n",
              "      <td>2004-02-11T00:00:00</td>\n",
              "      <td>NaN</td>\n",
              "      <td>NaN</td>\n",
              "      <td>NaN</td>\n",
              "      <td>NaN</td>\n",
              "      <td>NaN</td>\n",
              "      <td>AAI</td>\n",
              "    </tr>\n",
              "    <tr>\n",
              "      <th>4</th>\n",
              "      <td>1141408-20080516</td>\n",
              "      <td>1896750</td>\n",
              "      <td>213785</td>\n",
              "      <td>1</td>\n",
              "      <td>MCDONOUGH MECHANICAL SERVICE</td>\n",
              "      <td>MCDONOUGH MECHANICAL SERVICE</td>\n",
              "      <td>4081  JOSEPH DR</td>\n",
              "      <td>WAUKEGAN</td>\n",
              "      <td>IL</td>\n",
              "      <td>60087</td>\n",
              "      <td>...</td>\n",
              "      <td>2008-05-16T00:00:00</td>\n",
              "      <td>2010-05-15T00:00:00</td>\n",
              "      <td>2008-06-04T00:00:00</td>\n",
              "      <td>2008-06-05T00:00:00</td>\n",
              "      <td>NaN</td>\n",
              "      <td>NaN</td>\n",
              "      <td>NaN</td>\n",
              "      <td>NaN</td>\n",
              "      <td>NaN</td>\n",
              "      <td>AAI</td>\n",
              "    </tr>\n",
              "  </tbody>\n",
              "</table>\n",
              "<p>5 rows × 32 columns</p>\n",
              "</div>\n",
              "      <button class=\"colab-df-convert\" onclick=\"convertToInteractive('df-9ea2fa8e-de70-4493-b9d4-a21ee30c8eb7')\"\n",
              "              title=\"Convert this dataframe to an interactive table.\"\n",
              "              style=\"display:none;\">\n",
              "        \n",
              "  <svg xmlns=\"http://www.w3.org/2000/svg\" height=\"24px\"viewBox=\"0 0 24 24\"\n",
              "       width=\"24px\">\n",
              "    <path d=\"M0 0h24v24H0V0z\" fill=\"none\"/>\n",
              "    <path d=\"M18.56 5.44l.94 2.06.94-2.06 2.06-.94-2.06-.94-.94-2.06-.94 2.06-2.06.94zm-11 1L8.5 8.5l.94-2.06 2.06-.94-2.06-.94L8.5 2.5l-.94 2.06-2.06.94zm10 10l.94 2.06.94-2.06 2.06-.94-2.06-.94-.94-2.06-.94 2.06-2.06.94z\"/><path d=\"M17.41 7.96l-1.37-1.37c-.4-.4-.92-.59-1.43-.59-.52 0-1.04.2-1.43.59L10.3 9.45l-7.72 7.72c-.78.78-.78 2.05 0 2.83L4 21.41c.39.39.9.59 1.41.59.51 0 1.02-.2 1.41-.59l7.78-7.78 2.81-2.81c.8-.78.8-2.07 0-2.86zM5.41 20L4 18.59l7.72-7.72 1.47 1.35L5.41 20z\"/>\n",
              "  </svg>\n",
              "      </button>\n",
              "      \n",
              "  <style>\n",
              "    .colab-df-container {\n",
              "      display:flex;\n",
              "      flex-wrap:wrap;\n",
              "      gap: 12px;\n",
              "    }\n",
              "\n",
              "    .colab-df-convert {\n",
              "      background-color: #E8F0FE;\n",
              "      border: none;\n",
              "      border-radius: 50%;\n",
              "      cursor: pointer;\n",
              "      display: none;\n",
              "      fill: #1967D2;\n",
              "      height: 32px;\n",
              "      padding: 0 0 0 0;\n",
              "      width: 32px;\n",
              "    }\n",
              "\n",
              "    .colab-df-convert:hover {\n",
              "      background-color: #E2EBFA;\n",
              "      box-shadow: 0px 1px 2px rgba(60, 64, 67, 0.3), 0px 1px 3px 1px rgba(60, 64, 67, 0.15);\n",
              "      fill: #174EA6;\n",
              "    }\n",
              "\n",
              "    [theme=dark] .colab-df-convert {\n",
              "      background-color: #3B4455;\n",
              "      fill: #D2E3FC;\n",
              "    }\n",
              "\n",
              "    [theme=dark] .colab-df-convert:hover {\n",
              "      background-color: #434B5C;\n",
              "      box-shadow: 0px 1px 3px 1px rgba(0, 0, 0, 0.15);\n",
              "      filter: drop-shadow(0px 1px 2px rgba(0, 0, 0, 0.3));\n",
              "      fill: #FFFFFF;\n",
              "    }\n",
              "  </style>\n",
              "\n",
              "      <script>\n",
              "        const buttonEl =\n",
              "          document.querySelector('#df-9ea2fa8e-de70-4493-b9d4-a21ee30c8eb7 button.colab-df-convert');\n",
              "        buttonEl.style.display =\n",
              "          google.colab.kernel.accessAllowed ? 'block' : 'none';\n",
              "\n",
              "        async function convertToInteractive(key) {\n",
              "          const element = document.querySelector('#df-9ea2fa8e-de70-4493-b9d4-a21ee30c8eb7');\n",
              "          const dataTable =\n",
              "            await google.colab.kernel.invokeFunction('convertToInteractive',\n",
              "                                                     [key], {});\n",
              "          if (!dataTable) return;\n",
              "\n",
              "          const docLinkHtml = 'Like what you see? Visit the ' +\n",
              "            '<a target=\"_blank\" href=https://colab.research.google.com/notebooks/data_table.ipynb>data table notebook</a>'\n",
              "            + ' to learn more about interactive tables.';\n",
              "          element.innerHTML = '';\n",
              "          dataTable['output_type'] = 'display_data';\n",
              "          await google.colab.output.renderOutput(dataTable, element);\n",
              "          const docLink = document.createElement('div');\n",
              "          docLink.innerHTML = docLinkHtml;\n",
              "          element.appendChild(docLink);\n",
              "        }\n",
              "      </script>\n",
              "    </div>\n",
              "  </div>\n",
              "  "
            ]
          },
          "metadata": {},
          "execution_count": 397
        }
      ]
    },
    {
      "cell_type": "code",
      "source": [
        "train_data.shape"
      ],
      "metadata": {
        "colab": {
          "base_uri": "https://localhost:8080/"
        },
        "id": "CYytV69e0gGq",
        "outputId": "7ef55c18-b522-4bd0-893d-0b69028e5c16"
      },
      "execution_count": 398,
      "outputs": [
        {
          "output_type": "execute_result",
          "data": {
            "text/plain": [
              "(85895, 32)"
            ]
          },
          "metadata": {},
          "execution_count": 398
        }
      ]
    },
    {
      "cell_type": "code",
      "source": [
        "test_data = pd.read_csv(\"/content/drive/MyDrive/CSV/test_file.csv\")\n",
        "test_data.head()"
      ],
      "metadata": {
        "colab": {
          "base_uri": "https://localhost:8080/",
          "height": 525
        },
        "id": "O6ZycZwYxM4i",
        "outputId": "1e57a4b9-9c78-48ba-f54d-69c906c95458"
      },
      "execution_count": 399,
      "outputs": [
        {
          "output_type": "execute_result",
          "data": {
            "text/plain": [
              "                 ID  LICENSE ID  ACCOUNT NUMBER  SITE NUMBER  \\\n",
              "0  1516615-20120216     2132209          280120            1   \n",
              "1    69813-20110616     2090759           65043            1   \n",
              "2  1519227-20041116     1541990          281270            1   \n",
              "3  1922025-20100816     2041053          335243            1   \n",
              "4  1675683-20070816     1837158          283018            3   \n",
              "\n",
              "               LEGAL NAME DOING BUSINESS AS NAME                   ADDRESS  \\\n",
              "0          RS HOMES I LLC         RS HOMES I LLC    350 W HUBBARD ST 3 300   \n",
              "1      CSX INTERMODAL INC         CSX INTERMODAL        2101 W 59TH ST 1ST   \n",
              "2   LOCOMIBILE  LOFTS LLC   LOCOMOBILE LOFTS LLC     1133 S WABASH AVE 1ST   \n",
              "3         ANNA F. JAMISON        ANNA F. JAMISON  13156 S FORRESTVILLE AVE   \n",
              "4  MARINCA A. COVARRUBIAS                DETAILS         4208 S ARCHER AVE   \n",
              "\n",
              "      CITY STATE  ZIP CODE  ...  CONDITIONAL APPROVAL  \\\n",
              "0  CHICAGO    IL   60610.0  ...                     N   \n",
              "1  CHICAGO    IL   60636.0  ...                     N   \n",
              "2  CHICAGO    IL   60605.0  ...                     N   \n",
              "3  CHICAGO    IL   60827.0  ...                     N   \n",
              "4  CHICAGO    IL   60632.0  ...                     N   \n",
              "\n",
              "   LICENSE TERM START DATE LICENSE TERM EXPIRATION DATE  \\\n",
              "0      2012-02-16T00:00:00          2014-02-15T00:00:00   \n",
              "1      2011-06-16T00:00:00          2013-06-15T00:00:00   \n",
              "2      2004-11-16T00:00:00          2005-11-15T00:00:00   \n",
              "3      2010-08-16T00:00:00          2012-08-15T00:00:00   \n",
              "4      2007-08-16T00:00:00          2009-06-15T00:00:00   \n",
              "\n",
              "   LICENSE APPROVED FOR ISSUANCE          DATE ISSUED  \\\n",
              "0            2012-01-19T00:00:00  2012-01-20T00:00:00   \n",
              "1            2012-11-02T00:00:00  2012-11-05T00:00:00   \n",
              "2            2004-12-06T00:00:00  2004-12-07T00:00:00   \n",
              "3                            NaN  2010-11-04T00:00:00   \n",
              "4            2007-08-15T00:00:00  2007-08-16T00:00:00   \n",
              "\n",
              "  LICENSE STATUS CHANGE DATE   SSA   LATITUDE  LONGITUDE  \\\n",
              "0        2012-12-29T00:00:00   NaN  41.890047 -87.637467   \n",
              "1        2012-12-29T00:00:00   NaN  41.786485 -87.676665   \n",
              "2                        NaN   NaN  41.868269 -87.625695   \n",
              "3        2012-12-31T00:00:00   NaN  41.655762 -87.608686   \n",
              "4        2008-03-26T00:00:00  39.0  41.816969 -87.699785   \n",
              "\n",
              "                                            LOCATION  \n",
              "0  {'latitude': '41.89004724888915', 'longitude':...  \n",
              "1  {'latitude': '41.786485235679486', 'longitude'...  \n",
              "2  {'latitude': '41.86826924843568', 'longitude':...  \n",
              "3  {'latitude': '41.65576175146191', 'longitude':...  \n",
              "4  {'latitude': '41.81696910012824', 'longitude':...  \n",
              "\n",
              "[5 rows x 31 columns]"
            ],
            "text/html": [
              "\n",
              "  <div id=\"df-0fc4b52e-bf9b-4007-8b4e-363e28b51a4d\">\n",
              "    <div class=\"colab-df-container\">\n",
              "      <div>\n",
              "<style scoped>\n",
              "    .dataframe tbody tr th:only-of-type {\n",
              "        vertical-align: middle;\n",
              "    }\n",
              "\n",
              "    .dataframe tbody tr th {\n",
              "        vertical-align: top;\n",
              "    }\n",
              "\n",
              "    .dataframe thead th {\n",
              "        text-align: right;\n",
              "    }\n",
              "</style>\n",
              "<table border=\"1\" class=\"dataframe\">\n",
              "  <thead>\n",
              "    <tr style=\"text-align: right;\">\n",
              "      <th></th>\n",
              "      <th>ID</th>\n",
              "      <th>LICENSE ID</th>\n",
              "      <th>ACCOUNT NUMBER</th>\n",
              "      <th>SITE NUMBER</th>\n",
              "      <th>LEGAL NAME</th>\n",
              "      <th>DOING BUSINESS AS NAME</th>\n",
              "      <th>ADDRESS</th>\n",
              "      <th>CITY</th>\n",
              "      <th>STATE</th>\n",
              "      <th>ZIP CODE</th>\n",
              "      <th>...</th>\n",
              "      <th>CONDITIONAL APPROVAL</th>\n",
              "      <th>LICENSE TERM START DATE</th>\n",
              "      <th>LICENSE TERM EXPIRATION DATE</th>\n",
              "      <th>LICENSE APPROVED FOR ISSUANCE</th>\n",
              "      <th>DATE ISSUED</th>\n",
              "      <th>LICENSE STATUS CHANGE DATE</th>\n",
              "      <th>SSA</th>\n",
              "      <th>LATITUDE</th>\n",
              "      <th>LONGITUDE</th>\n",
              "      <th>LOCATION</th>\n",
              "    </tr>\n",
              "  </thead>\n",
              "  <tbody>\n",
              "    <tr>\n",
              "      <th>0</th>\n",
              "      <td>1516615-20120216</td>\n",
              "      <td>2132209</td>\n",
              "      <td>280120</td>\n",
              "      <td>1</td>\n",
              "      <td>RS HOMES I LLC</td>\n",
              "      <td>RS HOMES I LLC</td>\n",
              "      <td>350 W HUBBARD ST 3 300</td>\n",
              "      <td>CHICAGO</td>\n",
              "      <td>IL</td>\n",
              "      <td>60610.0</td>\n",
              "      <td>...</td>\n",
              "      <td>N</td>\n",
              "      <td>2012-02-16T00:00:00</td>\n",
              "      <td>2014-02-15T00:00:00</td>\n",
              "      <td>2012-01-19T00:00:00</td>\n",
              "      <td>2012-01-20T00:00:00</td>\n",
              "      <td>2012-12-29T00:00:00</td>\n",
              "      <td>NaN</td>\n",
              "      <td>41.890047</td>\n",
              "      <td>-87.637467</td>\n",
              "      <td>{'latitude': '41.89004724888915', 'longitude':...</td>\n",
              "    </tr>\n",
              "    <tr>\n",
              "      <th>1</th>\n",
              "      <td>69813-20110616</td>\n",
              "      <td>2090759</td>\n",
              "      <td>65043</td>\n",
              "      <td>1</td>\n",
              "      <td>CSX INTERMODAL INC</td>\n",
              "      <td>CSX INTERMODAL</td>\n",
              "      <td>2101 W 59TH ST 1ST</td>\n",
              "      <td>CHICAGO</td>\n",
              "      <td>IL</td>\n",
              "      <td>60636.0</td>\n",
              "      <td>...</td>\n",
              "      <td>N</td>\n",
              "      <td>2011-06-16T00:00:00</td>\n",
              "      <td>2013-06-15T00:00:00</td>\n",
              "      <td>2012-11-02T00:00:00</td>\n",
              "      <td>2012-11-05T00:00:00</td>\n",
              "      <td>2012-12-29T00:00:00</td>\n",
              "      <td>NaN</td>\n",
              "      <td>41.786485</td>\n",
              "      <td>-87.676665</td>\n",
              "      <td>{'latitude': '41.786485235679486', 'longitude'...</td>\n",
              "    </tr>\n",
              "    <tr>\n",
              "      <th>2</th>\n",
              "      <td>1519227-20041116</td>\n",
              "      <td>1541990</td>\n",
              "      <td>281270</td>\n",
              "      <td>1</td>\n",
              "      <td>LOCOMIBILE  LOFTS LLC</td>\n",
              "      <td>LOCOMOBILE LOFTS LLC</td>\n",
              "      <td>1133 S WABASH AVE 1ST</td>\n",
              "      <td>CHICAGO</td>\n",
              "      <td>IL</td>\n",
              "      <td>60605.0</td>\n",
              "      <td>...</td>\n",
              "      <td>N</td>\n",
              "      <td>2004-11-16T00:00:00</td>\n",
              "      <td>2005-11-15T00:00:00</td>\n",
              "      <td>2004-12-06T00:00:00</td>\n",
              "      <td>2004-12-07T00:00:00</td>\n",
              "      <td>NaN</td>\n",
              "      <td>NaN</td>\n",
              "      <td>41.868269</td>\n",
              "      <td>-87.625695</td>\n",
              "      <td>{'latitude': '41.86826924843568', 'longitude':...</td>\n",
              "    </tr>\n",
              "    <tr>\n",
              "      <th>3</th>\n",
              "      <td>1922025-20100816</td>\n",
              "      <td>2041053</td>\n",
              "      <td>335243</td>\n",
              "      <td>1</td>\n",
              "      <td>ANNA F. JAMISON</td>\n",
              "      <td>ANNA F. JAMISON</td>\n",
              "      <td>13156 S FORRESTVILLE AVE</td>\n",
              "      <td>CHICAGO</td>\n",
              "      <td>IL</td>\n",
              "      <td>60827.0</td>\n",
              "      <td>...</td>\n",
              "      <td>N</td>\n",
              "      <td>2010-08-16T00:00:00</td>\n",
              "      <td>2012-08-15T00:00:00</td>\n",
              "      <td>NaN</td>\n",
              "      <td>2010-11-04T00:00:00</td>\n",
              "      <td>2012-12-31T00:00:00</td>\n",
              "      <td>NaN</td>\n",
              "      <td>41.655762</td>\n",
              "      <td>-87.608686</td>\n",
              "      <td>{'latitude': '41.65576175146191', 'longitude':...</td>\n",
              "    </tr>\n",
              "    <tr>\n",
              "      <th>4</th>\n",
              "      <td>1675683-20070816</td>\n",
              "      <td>1837158</td>\n",
              "      <td>283018</td>\n",
              "      <td>3</td>\n",
              "      <td>MARINCA A. COVARRUBIAS</td>\n",
              "      <td>DETAILS</td>\n",
              "      <td>4208 S ARCHER AVE</td>\n",
              "      <td>CHICAGO</td>\n",
              "      <td>IL</td>\n",
              "      <td>60632.0</td>\n",
              "      <td>...</td>\n",
              "      <td>N</td>\n",
              "      <td>2007-08-16T00:00:00</td>\n",
              "      <td>2009-06-15T00:00:00</td>\n",
              "      <td>2007-08-15T00:00:00</td>\n",
              "      <td>2007-08-16T00:00:00</td>\n",
              "      <td>2008-03-26T00:00:00</td>\n",
              "      <td>39.0</td>\n",
              "      <td>41.816969</td>\n",
              "      <td>-87.699785</td>\n",
              "      <td>{'latitude': '41.81696910012824', 'longitude':...</td>\n",
              "    </tr>\n",
              "  </tbody>\n",
              "</table>\n",
              "<p>5 rows × 31 columns</p>\n",
              "</div>\n",
              "      <button class=\"colab-df-convert\" onclick=\"convertToInteractive('df-0fc4b52e-bf9b-4007-8b4e-363e28b51a4d')\"\n",
              "              title=\"Convert this dataframe to an interactive table.\"\n",
              "              style=\"display:none;\">\n",
              "        \n",
              "  <svg xmlns=\"http://www.w3.org/2000/svg\" height=\"24px\"viewBox=\"0 0 24 24\"\n",
              "       width=\"24px\">\n",
              "    <path d=\"M0 0h24v24H0V0z\" fill=\"none\"/>\n",
              "    <path d=\"M18.56 5.44l.94 2.06.94-2.06 2.06-.94-2.06-.94-.94-2.06-.94 2.06-2.06.94zm-11 1L8.5 8.5l.94-2.06 2.06-.94-2.06-.94L8.5 2.5l-.94 2.06-2.06.94zm10 10l.94 2.06.94-2.06 2.06-.94-2.06-.94-.94-2.06-.94 2.06-2.06.94z\"/><path d=\"M17.41 7.96l-1.37-1.37c-.4-.4-.92-.59-1.43-.59-.52 0-1.04.2-1.43.59L10.3 9.45l-7.72 7.72c-.78.78-.78 2.05 0 2.83L4 21.41c.39.39.9.59 1.41.59.51 0 1.02-.2 1.41-.59l7.78-7.78 2.81-2.81c.8-.78.8-2.07 0-2.86zM5.41 20L4 18.59l7.72-7.72 1.47 1.35L5.41 20z\"/>\n",
              "  </svg>\n",
              "      </button>\n",
              "      \n",
              "  <style>\n",
              "    .colab-df-container {\n",
              "      display:flex;\n",
              "      flex-wrap:wrap;\n",
              "      gap: 12px;\n",
              "    }\n",
              "\n",
              "    .colab-df-convert {\n",
              "      background-color: #E8F0FE;\n",
              "      border: none;\n",
              "      border-radius: 50%;\n",
              "      cursor: pointer;\n",
              "      display: none;\n",
              "      fill: #1967D2;\n",
              "      height: 32px;\n",
              "      padding: 0 0 0 0;\n",
              "      width: 32px;\n",
              "    }\n",
              "\n",
              "    .colab-df-convert:hover {\n",
              "      background-color: #E2EBFA;\n",
              "      box-shadow: 0px 1px 2px rgba(60, 64, 67, 0.3), 0px 1px 3px 1px rgba(60, 64, 67, 0.15);\n",
              "      fill: #174EA6;\n",
              "    }\n",
              "\n",
              "    [theme=dark] .colab-df-convert {\n",
              "      background-color: #3B4455;\n",
              "      fill: #D2E3FC;\n",
              "    }\n",
              "\n",
              "    [theme=dark] .colab-df-convert:hover {\n",
              "      background-color: #434B5C;\n",
              "      box-shadow: 0px 1px 3px 1px rgba(0, 0, 0, 0.15);\n",
              "      filter: drop-shadow(0px 1px 2px rgba(0, 0, 0, 0.3));\n",
              "      fill: #FFFFFF;\n",
              "    }\n",
              "  </style>\n",
              "\n",
              "      <script>\n",
              "        const buttonEl =\n",
              "          document.querySelector('#df-0fc4b52e-bf9b-4007-8b4e-363e28b51a4d button.colab-df-convert');\n",
              "        buttonEl.style.display =\n",
              "          google.colab.kernel.accessAllowed ? 'block' : 'none';\n",
              "\n",
              "        async function convertToInteractive(key) {\n",
              "          const element = document.querySelector('#df-0fc4b52e-bf9b-4007-8b4e-363e28b51a4d');\n",
              "          const dataTable =\n",
              "            await google.colab.kernel.invokeFunction('convertToInteractive',\n",
              "                                                     [key], {});\n",
              "          if (!dataTable) return;\n",
              "\n",
              "          const docLinkHtml = 'Like what you see? Visit the ' +\n",
              "            '<a target=\"_blank\" href=https://colab.research.google.com/notebooks/data_table.ipynb>data table notebook</a>'\n",
              "            + ' to learn more about interactive tables.';\n",
              "          element.innerHTML = '';\n",
              "          dataTable['output_type'] = 'display_data';\n",
              "          await google.colab.output.renderOutput(dataTable, element);\n",
              "          const docLink = document.createElement('div');\n",
              "          docLink.innerHTML = docLinkHtml;\n",
              "          element.appendChild(docLink);\n",
              "        }\n",
              "      </script>\n",
              "    </div>\n",
              "  </div>\n",
              "  "
            ]
          },
          "metadata": {},
          "execution_count": 399
        }
      ]
    },
    {
      "cell_type": "code",
      "source": [
        "test_data.shape"
      ],
      "metadata": {
        "colab": {
          "base_uri": "https://localhost:8080/"
        },
        "id": "-RjZAgBm0uBz",
        "outputId": "b3211927-c140-482c-a9f4-339180165564"
      },
      "execution_count": 400,
      "outputs": [
        {
          "output_type": "execute_result",
          "data": {
            "text/plain": [
              "(57239, 31)"
            ]
          },
          "metadata": {},
          "execution_count": 400
        }
      ]
    },
    {
      "cell_type": "code",
      "source": [
        "## Checking null values\n",
        "\n",
        "train_data.isna().sum()"
      ],
      "metadata": {
        "colab": {
          "base_uri": "https://localhost:8080/"
        },
        "id": "oxmh6jt6xx_E",
        "outputId": "0acc1f1e-caef-4187-cabb-44e269a1d4a1"
      },
      "execution_count": 402,
      "outputs": [
        {
          "output_type": "execute_result",
          "data": {
            "text/plain": [
              "ID                                       0\n",
              "LICENSE ID                               0\n",
              "ACCOUNT NUMBER                           0\n",
              "SITE NUMBER                              0\n",
              "LEGAL NAME                               0\n",
              "DOING BUSINESS AS NAME                   1\n",
              "ADDRESS                                  0\n",
              "CITY                                     0\n",
              "STATE                                    0\n",
              "ZIP CODE                                31\n",
              "WARD                                 49701\n",
              "PRECINCT                             56701\n",
              "WARD PRECINCT                        49700\n",
              "POLICE DISTRICT                      54012\n",
              "LICENSE CODE                             0\n",
              "LICENSE DESCRIPTION                      0\n",
              "LICENSE NUMBER                           1\n",
              "APPLICATION TYPE                         0\n",
              "APPLICATION CREATED DATE             64660\n",
              "APPLICATION REQUIREMENTS COMPLETE      214\n",
              "PAYMENT DATE                          1289\n",
              "CONDITIONAL APPROVAL                     0\n",
              "LICENSE TERM START DATE                228\n",
              "LICENSE TERM EXPIRATION DATE            18\n",
              "LICENSE APPROVED FOR ISSUANCE         6789\n",
              "DATE ISSUED                              0\n",
              "LICENSE STATUS CHANGE DATE           55400\n",
              "SSA                                  76446\n",
              "LATITUDE                             47246\n",
              "LONGITUDE                            47246\n",
              "LOCATION                             47246\n",
              "LICENSE STATUS                           0\n",
              "dtype: int64"
            ]
          },
          "metadata": {},
          "execution_count": 402
        }
      ]
    },
    {
      "cell_type": "code",
      "source": [
        "test_data.isna().sum()"
      ],
      "metadata": {
        "colab": {
          "base_uri": "https://localhost:8080/"
        },
        "id": "YABfwTfc1wMI",
        "outputId": "d79766e8-eae1-42b6-a245-f7ec39362f52"
      },
      "execution_count": 403,
      "outputs": [
        {
          "output_type": "execute_result",
          "data": {
            "text/plain": [
              "ID                                       0\n",
              "LICENSE ID                               0\n",
              "ACCOUNT NUMBER                           0\n",
              "SITE NUMBER                              0\n",
              "LEGAL NAME                               0\n",
              "DOING BUSINESS AS NAME                   2\n",
              "ADDRESS                                  0\n",
              "CITY                                     0\n",
              "STATE                                    0\n",
              "ZIP CODE                                12\n",
              "WARD                                   626\n",
              "PRECINCT                              1578\n",
              "WARD PRECINCT                          616\n",
              "POLICE DISTRICT                       1475\n",
              "LICENSE CODE                             0\n",
              "LICENSE DESCRIPTION                      0\n",
              "LICENSE NUMBER                           0\n",
              "APPLICATION TYPE                         0\n",
              "APPLICATION CREATED DATE             44587\n",
              "APPLICATION REQUIREMENTS COMPLETE      428\n",
              "PAYMENT DATE                          1051\n",
              "CONDITIONAL APPROVAL                     0\n",
              "LICENSE TERM START DATE                118\n",
              "LICENSE TERM EXPIRATION DATE             6\n",
              "LICENSE APPROVED FOR ISSUANCE         2379\n",
              "DATE ISSUED                              0\n",
              "LICENSE STATUS CHANGE DATE           23246\n",
              "SSA                                  41331\n",
              "LATITUDE                               910\n",
              "LONGITUDE                              910\n",
              "LOCATION                               910\n",
              "dtype: int64"
            ]
          },
          "metadata": {},
          "execution_count": 403
        }
      ]
    },
    {
      "cell_type": "code",
      "source": [
        "train_data.nunique()"
      ],
      "metadata": {
        "colab": {
          "base_uri": "https://localhost:8080/"
        },
        "id": "l8VMqV7Q1z2c",
        "outputId": "bda33218-a9b4-4b0d-8585-342b71b2b5fc"
      },
      "execution_count": 404,
      "outputs": [
        {
          "output_type": "execute_result",
          "data": {
            "text/plain": [
              "ID                                   85895\n",
              "LICENSE ID                           85895\n",
              "ACCOUNT NUMBER                       38897\n",
              "SITE NUMBER                            177\n",
              "LEGAL NAME                           38744\n",
              "DOING BUSINESS AS NAME               41686\n",
              "ADDRESS                              42146\n",
              "CITY                                  1223\n",
              "STATE                                   54\n",
              "ZIP CODE                              2456\n",
              "WARD                                    50\n",
              "PRECINCT                                76\n",
              "WARD PRECINCT                         2383\n",
              "POLICE DISTRICT                         28\n",
              "LICENSE CODE                           106\n",
              "LICENSE DESCRIPTION                    106\n",
              "LICENSE NUMBER                       49768\n",
              "APPLICATION TYPE                         5\n",
              "APPLICATION CREATED DATE              2899\n",
              "APPLICATION REQUIREMENTS COMPLETE     3078\n",
              "PAYMENT DATE                          4356\n",
              "CONDITIONAL APPROVAL                     2\n",
              "LICENSE TERM START DATE               2825\n",
              "LICENSE TERM EXPIRATION DATE           297\n",
              "LICENSE APPROVED FOR ISSUANCE         4223\n",
              "DATE ISSUED                           3498\n",
              "LICENSE STATUS CHANGE DATE            3152\n",
              "SSA                                     53\n",
              "LATITUDE                             21386\n",
              "LONGITUDE                            21388\n",
              "LOCATION                             21388\n",
              "LICENSE STATUS                           5\n",
              "dtype: int64"
            ]
          },
          "metadata": {},
          "execution_count": 404
        }
      ]
    },
    {
      "cell_type": "code",
      "source": [
        "## Dropping columns which will be of no use for our model\n",
        "\n",
        "col_list = ['APPLICATION CREATED DATE', 'SSA', 'LICENSE ID', 'ADDRESS', 'ID', 'LOCATION']\n",
        "\n",
        "train_data = train_data.drop(col_list, axis=1)\n",
        "test_data = test_data.drop(col_list, axis=1)"
      ],
      "metadata": {
        "id": "NWa1LdgO17CU"
      },
      "execution_count": 405,
      "outputs": []
    },
    {
      "cell_type": "code",
      "source": [
        "## Filling Na Values\n",
        "\n",
        "train_data['LATITUDE'].fillna(train_data['LATITUDE'].mean(), inplace=True)"
      ],
      "metadata": {
        "id": "n73n9lv9BX-b"
      },
      "execution_count": 406,
      "outputs": []
    },
    {
      "cell_type": "code",
      "source": [
        "test_data['LATITUDE'].fillna(test_data['LATITUDE'].mean(), inplace=True)"
      ],
      "metadata": {
        "id": "LSEVnGe5EDYg"
      },
      "execution_count": 407,
      "outputs": []
    },
    {
      "cell_type": "code",
      "source": [
        "train_data['LONGITUDE'].fillna(train_data['LONGITUDE'].mean(), inplace=True)"
      ],
      "metadata": {
        "id": "azqc9xfSEDOJ"
      },
      "execution_count": 408,
      "outputs": []
    },
    {
      "cell_type": "code",
      "source": [
        "test_data['LONGITUDE'].fillna(test_data['LONGITUDE'].mean(), inplace=True)"
      ],
      "metadata": {
        "id": "aeC_67yzEDC1"
      },
      "execution_count": 409,
      "outputs": []
    },
    {
      "cell_type": "code",
      "source": [
        "train_data['LEGAL NAME'].fillna(method='ffill')"
      ],
      "metadata": {
        "colab": {
          "base_uri": "https://localhost:8080/"
        },
        "id": "ihfL2mHuEkt4",
        "outputId": "ade84420-c31c-4167-8fb0-62c3656b2ab0"
      },
      "execution_count": 410,
      "outputs": [
        {
          "output_type": "execute_result",
          "data": {
            "text/plain": [
              "0                          CARMEN CAHUE\n",
              "1                   ISLA TROPICAL, INC.\n",
              "2                        DJS REMODELING\n",
              "3              ALL-BRY CONSTRUCTION CO.\n",
              "4          MCDONOUGH MECHANICAL SERVICE\n",
              "                      ...              \n",
              "85890             UNITED PARCEL SERVICE\n",
              "85891    EXPRESS BOARD UP SERVICE, INC.\n",
              "85892                  ARAMARK SMMS LLC\n",
              "85893     GENERAL NUTRITION CORPORATION\n",
              "85894                 JUAN CARLOS ERAZO\n",
              "Name: LEGAL NAME, Length: 85895, dtype: object"
            ]
          },
          "metadata": {},
          "execution_count": 410
        }
      ]
    },
    {
      "cell_type": "code",
      "source": [
        "test_data['LEGAL NAME'].fillna(method='ffill')"
      ],
      "metadata": {
        "colab": {
          "base_uri": "https://localhost:8080/"
        },
        "id": "VcVU3vIWEknl",
        "outputId": "326917b8-7617-486f-dee6-64b9c721e050"
      },
      "execution_count": 411,
      "outputs": [
        {
          "output_type": "execute_result",
          "data": {
            "text/plain": [
              "0                           RS HOMES I LLC\n",
              "1                       CSX INTERMODAL INC\n",
              "2                    LOCOMIBILE  LOFTS LLC\n",
              "3                          ANNA F. JAMISON\n",
              "4                   MARINCA A. COVARRUBIAS\n",
              "                       ...                \n",
              "57234    GOODHEALTH MEDICAL PRODUCTS, INC.\n",
              "57235                        INTERPARK LLC\n",
              "57236                        YUN HEE HWANG\n",
              "57237         D. C. A. TOWING INCORPORATED\n",
              "57238                        maria t bedoy\n",
              "Name: LEGAL NAME, Length: 57239, dtype: object"
            ]
          },
          "metadata": {},
          "execution_count": 411
        }
      ]
    },
    {
      "cell_type": "code",
      "source": [
        "train_data['DOING BUSINESS AS NAME'].fillna(method='ffill')"
      ],
      "metadata": {
        "colab": {
          "base_uri": "https://localhost:8080/"
        },
        "id": "c2gzQI29EkgC",
        "outputId": "8835f6bc-fe74-42ec-81d6-8aadedf256f5"
      },
      "execution_count": 412,
      "outputs": [
        {
          "output_type": "execute_result",
          "data": {
            "text/plain": [
              "0                 CLAUDIA'S BRIDAL SHOP\n",
              "1                         ISLA TROPICAL\n",
              "2                  DJS REMODELING, INC.\n",
              "3              ALL-BRY CONSTRUCTION CO.\n",
              "4          MCDONOUGH MECHANICAL SERVICE\n",
              "                      ...              \n",
              "85890             UNITED PARCEL SERVICE\n",
              "85891    EXPRESS BOARD UP SERVICE, INC.\n",
              "85892         ARAMARK FACILITY SERVICES\n",
              "85893     GENERAL NUTRITION CENTER # 61\n",
              "85894           CASA DE JUAN RESTAURANT\n",
              "Name: DOING BUSINESS AS NAME, Length: 85895, dtype: object"
            ]
          },
          "metadata": {},
          "execution_count": 412
        }
      ]
    },
    {
      "cell_type": "code",
      "source": [
        "test_data['DOING BUSINESS AS NAME'].fillna(method='ffill')"
      ],
      "metadata": {
        "colab": {
          "base_uri": "https://localhost:8080/"
        },
        "id": "hHeLmtLeF3kc",
        "outputId": "db1e68e8-b36b-4f7a-b64b-8847c89bf7f9"
      },
      "execution_count": 413,
      "outputs": [
        {
          "output_type": "execute_result",
          "data": {
            "text/plain": [
              "0                           RS HOMES I LLC\n",
              "1                           CSX INTERMODAL\n",
              "2                     LOCOMOBILE LOFTS LLC\n",
              "3                          ANNA F. JAMISON\n",
              "4                                  DETAILS\n",
              "                       ...                \n",
              "57234    GOODHEALTH MEDICAL PRODUCTS, INC.\n",
              "57235                            INTERPARK\n",
              "57236                         TOP CLEANERS\n",
              "57237         D. C. A. TOWING INCORPORATED\n",
              "57238             mari's cleaning services\n",
              "Name: DOING BUSINESS AS NAME, Length: 57239, dtype: object"
            ]
          },
          "metadata": {},
          "execution_count": 413
        }
      ]
    },
    {
      "cell_type": "code",
      "source": [
        "## Converting into date time dt\n",
        "\n",
        "def conv_date(date_list):\n",
        "    for i in date_list:\n",
        "        train_data[i] = pd.to_datetime(train_data[i])\n",
        "        test_data[i] = pd.to_datetime(test_data[i])"
      ],
      "metadata": {
        "id": "Ky8PJMt3GJ4S"
      },
      "execution_count": 414,
      "outputs": []
    },
    {
      "cell_type": "code",
      "source": [
        "date_list = ['APPLICATION REQUIREMENTS COMPLETE', 'PAYMENT DATE', 'LICENSE TERM EXPIRATION DATE', 'LICENSE TERM START DATE',\n",
        "             'DATE ISSUED', 'LICENSE APPROVED FOR ISSUANCE', 'LICENSE STATUS CHANGE DATE']\n",
        "conv_date(date_list)"
      ],
      "metadata": {
        "id": "ezKI4oh1HqLy"
      },
      "execution_count": 415,
      "outputs": []
    },
    {
      "cell_type": "code",
      "source": [
        "## To extract only the year of columns\n",
        "\n",
        "def get_year(colname, dfcolname):\n",
        "    train_data[colname] = train_data[dfcolname].apply(lambda x:x.year)\n",
        "    test_data[colname] = test_data[dfcolname].apply(lambda x:x.year)\n",
        "def get_month(colname, dfcolname):\n",
        "    train_data[colname] = train_data[dfcolname].apply(lambda x:x.month)\n",
        "    test_data[colname] = test_data[dfcolname].apply(lambda x:x.month)"
      ],
      "metadata": {
        "id": "2bQOnXauHokp"
      },
      "execution_count": 416,
      "outputs": []
    },
    {
      "cell_type": "code",
      "source": [
        "## Extracting year & month and saving them in new column\n",
        "\n",
        "get_year('PAYMENT YEAR', 'PAYMENT DATE')\n",
        "get_month('PAYMENT MONTH', 'PAYMENT DATE')\n",
        "get_year('APPLICATION REQUIREMENTS COMPLETE YEAR', 'APPLICATION REQUIREMENTS COMPLETE')\n",
        "get_year('DATE ISSUED YEAR', 'DATE ISSUED')\n",
        "get_year('LICENSE TERM EXPIRATION YEAR', 'LICENSE TERM EXPIRATION DATE')\n",
        "get_year('LICENSE TERM START YEAR', 'LICENSE TERM START DATE')\n",
        "get_year('LICENSE APPROVED YEAR', 'LICENSE APPROVED FOR ISSUANCE')\n",
        "get_year('LICENSE STATUS CHANGE YEAR', 'LICENSE STATUS CHANGE DATE')"
      ],
      "metadata": {
        "id": "fXYdYcuoIMBc"
      },
      "execution_count": 417,
      "outputs": []
    },
    {
      "cell_type": "code",
      "source": [
        "## Filling Na Values for these columns\n",
        "\n",
        "# Function\n",
        "\n",
        "def round_mean(mean_list):\n",
        "    for i in mean_list:\n",
        "        train_data[i] = train_data[i].fillna(round(train_data[i].mean()))\n",
        "        test_data[i] = test_data[i].fillna(round(test_data[i].mean()))\n"
      ],
      "metadata": {
        "id": "GRTNzHLH_TfZ"
      },
      "execution_count": 418,
      "outputs": []
    },
    {
      "cell_type": "code",
      "source": [
        "mean_list = ['LICENSE TERM EXPIRATION YEAR', 'LICENSE TERM START YEAR', 'PAYMENT YEAR', 'LICENSE APPROVED YEAR',\n",
        "                 'APPLICATION REQUIREMENTS COMPLETE YEAR', 'LICENSE STATUS CHANGE YEAR']\n",
        "round_mean(mean_list)"
      ],
      "metadata": {
        "id": "Ys9ou9zdIdVn"
      },
      "execution_count": 419,
      "outputs": []
    },
    {
      "cell_type": "code",
      "source": [
        "## Creating a new column with license validity, i.e. difference of license start and license expiratiom\n",
        "\n",
        "train_data['LICENSE_VALIDITY'] = abs(train_data['LICENSE TERM EXPIRATION YEAR'] - train_data['LICENSE TERM START YEAR'])"
      ],
      "metadata": {
        "id": "EYHd8cLpIc_9"
      },
      "execution_count": 420,
      "outputs": []
    },
    {
      "cell_type": "code",
      "source": [
        "\n",
        "test_data['LICENSE_VALIDITY'] = abs(test_data['LICENSE TERM EXPIRATION YEAR'] - test_data['LICENSE TERM START YEAR'])"
      ],
      "metadata": {
        "id": "Lr0jGln2y74S"
      },
      "execution_count": 421,
      "outputs": []
    },
    {
      "cell_type": "code",
      "source": [
        "## dropping the unusefull columns\n",
        "\n",
        "col_list = ['PAYMENT DATE', 'APPLICATION REQUIREMENTS COMPLETE', 'LICENSE TERM EXPIRATION DATE', 'DATE ISSUED', \n",
        "            'LICENSE TERM EXPIRATION YEAR', 'LICENSE TERM START DATE', 'LICENSE TERM START YEAR', \n",
        "            'LICENSE APPROVED FOR ISSUANCE', 'LICENSE STATUS CHANGE DATE','DOING BUSINESS AS NAME', 'LEGAL NAME']\n",
        "\n",
        "train_data = train_data.drop(col_list, axis=1)\n",
        "test_data = test_data.drop(col_list, axis=1)"
      ],
      "metadata": {
        "id": "5gIDAzkRJb1N"
      },
      "execution_count": 422,
      "outputs": []
    },
    {
      "cell_type": "code",
      "source": [
        "## Nill values\n",
        "\n",
        "def impute_nil(imp_nil_list):\n",
        "    for i in imp_nil_list:\n",
        "        train_data[i] = train_data[i].fillna(0)\n",
        "        test_data[i] = test_data[i].fillna(0)"
      ],
      "metadata": {
        "id": "-79XBvjHvqPm"
      },
      "execution_count": 423,
      "outputs": []
    },
    {
      "cell_type": "code",
      "source": [
        "imp_nil_list = ['WARD', 'PRECINCT', 'POLICE DISTRICT', 'PAYMENT MONTH', 'WARD PRECINCT', 'LICENSE NUMBER']\n",
        "impute_nil(imp_nil_list)"
      ],
      "metadata": {
        "id": "3NRPwyMWwXqC"
      },
      "execution_count": 424,
      "outputs": []
    },
    {
      "cell_type": "code",
      "source": [
        "## Zip Code\n",
        "\n",
        "train_data['ZIP CODE']=train_data['ZIP CODE'].fillna('None')"
      ],
      "metadata": {
        "id": "XE_W3ymvwZFB"
      },
      "execution_count": 425,
      "outputs": []
    },
    {
      "cell_type": "code",
      "source": [
        "\n",
        "test_data['ZIP CODE']=test_data['ZIP CODE'].fillna('None')"
      ],
      "metadata": {
        "id": "Yh_SO-KYxVZ1"
      },
      "execution_count": 426,
      "outputs": []
    },
    {
      "cell_type": "code",
      "source": [
        "## ENCODING THE DATA\n",
        "\n",
        "train_data[\"LICENSE STATUS\"] = train_data[\"LICENSE STATUS\"].replace('AAI', 0)\n",
        "train_data[\"LICENSE STATUS\"] = train_data[\"LICENSE STATUS\"].replace('AAC', 1)\n",
        "train_data[\"LICENSE STATUS\"] = train_data[\"LICENSE STATUS\"].replace('REV', 2)\n",
        "train_data[\"LICENSE STATUS\"] = train_data[\"LICENSE STATUS\"].replace('REA', 3)\n",
        "train_data[\"LICENSE STATUS\"] = train_data[\"LICENSE STATUS\"].replace('INQ', 4)"
      ],
      "metadata": {
        "id": "PvDUtOnfwt9T"
      },
      "execution_count": 427,
      "outputs": []
    },
    {
      "cell_type": "code",
      "source": [
        "\n",
        "X=train_data.drop('LICENSE STATUS',axis=1)\n",
        "y=train_data['LICENSE STATUS']\n",
        "\n",
        "X_encoded=pd.get_dummies(X,drop_first=True)"
      ],
      "metadata": {
        "id": "fZeb3g6bw9RM"
      },
      "execution_count": 428,
      "outputs": []
    },
    {
      "cell_type": "code",
      "source": [
        "X_encoded.shape"
      ],
      "metadata": {
        "colab": {
          "base_uri": "https://localhost:8080/"
        },
        "id": "mzlVLyG51rWt",
        "outputId": "8ce3a065-c616-4999-846b-0a74b8c36620"
      },
      "execution_count": 429,
      "outputs": [
        {
          "output_type": "execute_result",
          "data": {
            "text/plain": [
              "(85895, 6240)"
            ]
          },
          "metadata": {},
          "execution_count": 429
        }
      ]
    },
    {
      "cell_type": "code",
      "source": [
        "test_data =pd.get_dummies(test_data, drop_first=True)"
      ],
      "metadata": {
        "id": "KqhYwkVmwdb3"
      },
      "execution_count": 430,
      "outputs": []
    },
    {
      "cell_type": "code",
      "source": [
        "test_data.shape"
      ],
      "metadata": {
        "colab": {
          "base_uri": "https://localhost:8080/"
        },
        "id": "47IG7dJq1ria",
        "outputId": "f3c293c1-b63d-4aa9-9681-8a4f62646d01"
      },
      "execution_count": 431,
      "outputs": [
        {
          "output_type": "execute_result",
          "data": {
            "text/plain": [
              "(57239, 3398)"
            ]
          },
          "metadata": {},
          "execution_count": 431
        }
      ]
    },
    {
      "cell_type": "code",
      "source": [
        "## Train_test_split\n",
        "\n",
        "from sklearn.model_selection import train_test_split\n",
        "X_train, X_test, y_train, y_test = train_test_split(X_encoded,y, test_size = 0.25, random_state = 42)"
      ],
      "metadata": {
        "id": "xcVLvy_Uxojd"
      },
      "execution_count": 432,
      "outputs": []
    },
    {
      "cell_type": "code",
      "source": [
        "# Gaussian Naive Bayes\n",
        "\n",
        "from sklearn.naive_bayes import GaussianNB\n",
        "\n",
        "model = GaussianNB()\n",
        "\n",
        "model.fit(X_train,y_train)"
      ],
      "metadata": {
        "colab": {
          "base_uri": "https://localhost:8080/"
        },
        "id": "3W172RfMtSXE",
        "outputId": "c35f9979-ef83-4940-8fe7-c168e9eb72dc"
      },
      "execution_count": 433,
      "outputs": [
        {
          "output_type": "execute_result",
          "data": {
            "text/plain": [
              "GaussianNB()"
            ]
          },
          "metadata": {},
          "execution_count": 433
        }
      ]
    },
    {
      "cell_type": "code",
      "source": [
        "y_pred = model.predict(X_test)"
      ],
      "metadata": {
        "id": "vAqi2FwEtpWn"
      },
      "execution_count": 434,
      "outputs": []
    },
    {
      "cell_type": "code",
      "source": [
        "model.score(X_test,y_test)"
      ],
      "metadata": {
        "colab": {
          "base_uri": "https://localhost:8080/"
        },
        "id": "0RIyLlfYt3cN",
        "outputId": "a491c478-4efd-40f5-f876-789b03151e77"
      },
      "execution_count": 435,
      "outputs": [
        {
          "output_type": "execute_result",
          "data": {
            "text/plain": [
              "0.7592437366117165"
            ]
          },
          "metadata": {},
          "execution_count": 435
        }
      ]
    },
    {
      "cell_type": "code",
      "source": [
        "## Classification Report\n",
        "\n",
        "print(classification_report(y_test,y_pred))"
      ],
      "metadata": {
        "id": "XonDvq87wyFJ",
        "colab": {
          "base_uri": "https://localhost:8080/"
        },
        "outputId": "c30bdbd1-5b94-4177-d991-a45e90fd1fea"
      },
      "execution_count": 436,
      "outputs": [
        {
          "output_type": "stream",
          "name": "stdout",
          "text": [
            "              precision    recall  f1-score   support\n",
            "\n",
            "           0       0.83      0.80      0.81     13772\n",
            "           1       0.65      0.70      0.67      7634\n",
            "           2       0.08      0.01      0.03        67\n",
            "           3       0.00      0.00      0.00         1\n",
            "\n",
            "    accuracy                           0.76     21474\n",
            "   macro avg       0.39      0.38      0.38     21474\n",
            "weighted avg       0.76      0.76      0.76     21474\n",
            "\n"
          ]
        },
        {
          "output_type": "stream",
          "name": "stderr",
          "text": [
            "/usr/local/lib/python3.7/dist-packages/sklearn/metrics/_classification.py:1318: UndefinedMetricWarning: Precision and F-score are ill-defined and being set to 0.0 in labels with no predicted samples. Use `zero_division` parameter to control this behavior.\n",
            "  _warn_prf(average, modifier, msg_start, len(result))\n",
            "/usr/local/lib/python3.7/dist-packages/sklearn/metrics/_classification.py:1318: UndefinedMetricWarning: Precision and F-score are ill-defined and being set to 0.0 in labels with no predicted samples. Use `zero_division` parameter to control this behavior.\n",
            "  _warn_prf(average, modifier, msg_start, len(result))\n",
            "/usr/local/lib/python3.7/dist-packages/sklearn/metrics/_classification.py:1318: UndefinedMetricWarning: Precision and F-score are ill-defined and being set to 0.0 in labels with no predicted samples. Use `zero_division` parameter to control this behavior.\n",
            "  _warn_prf(average, modifier, msg_start, len(result))\n"
          ]
        }
      ]
    }
  ]
}