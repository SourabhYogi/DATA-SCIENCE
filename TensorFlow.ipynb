{
  "nbformat": 4,
  "nbformat_minor": 0,
  "metadata": {
    "colab": {
      "name": "TensorFlow.ipynb",
      "provenance": [],
      "include_colab_link": true
    },
    "kernelspec": {
      "name": "python3",
      "display_name": "Python 3"
    },
    "language_info": {
      "name": "python"
    },
    "accelerator": "GPU"
  },
  "cells": [
    {
      "cell_type": "markdown",
      "metadata": {
        "id": "view-in-github",
        "colab_type": "text"
      },
      "source": [
        "<a href=\"https://colab.research.google.com/github/SourabhYogi/DATA-SCIENCE/blob/main/TensorFlow.ipynb\" target=\"_parent\"><img src=\"https://colab.research.google.com/assets/colab-badge.svg\" alt=\"Open In Colab\"/></a>"
      ]
    },
    {
      "cell_type": "code",
      "execution_count": 1,
      "metadata": {
        "id": "jPzd2Hp8FpsH"
      },
      "outputs": [],
      "source": [
        "import tensorflow as tf"
      ]
    },
    {
      "cell_type": "code",
      "source": [
        "print(tf.__version__)"
      ],
      "metadata": {
        "colab": {
          "base_uri": "https://localhost:8080/"
        },
        "id": "ciW5a_skHtOw",
        "outputId": "d4fc62e0-7515-478d-c417-d1179a6a0e8d"
      },
      "execution_count": 2,
      "outputs": [
        {
          "output_type": "stream",
          "name": "stdout",
          "text": [
            "2.8.0\n"
          ]
        }
      ]
    },
    {
      "cell_type": "code",
      "source": [
        "import tensorflow as tf\n",
        "print(\"TensorFlow version: {}\".format(tf.__version__))\n",
        "print(\"Keras version: {}\".format(tf.keras.__version__))"
      ],
      "metadata": {
        "colab": {
          "base_uri": "https://localhost:8080/"
        },
        "id": "sxCVMUYOIg1q",
        "outputId": "d24073d6-7e3f-4b94-e812-d683cec38104"
      },
      "execution_count": 3,
      "outputs": [
        {
          "output_type": "stream",
          "name": "stdout",
          "text": [
            "TensorFlow version: 2.8.0\n",
            "Keras version: 2.8.0\n"
          ]
        }
      ]
    },
    {
      "cell_type": "code",
      "source": [
        "tf.test.is_gpu_available()"
      ],
      "metadata": {
        "colab": {
          "base_uri": "https://localhost:8080/"
        },
        "id": "qixnS6sIJGQo",
        "outputId": "8ebacef9-fd64-432f-d3c6-8176065f622d"
      },
      "execution_count": 4,
      "outputs": [
        {
          "output_type": "stream",
          "name": "stdout",
          "text": [
            "WARNING:tensorflow:From <ipython-input-4-17bb7203622b>:1: is_gpu_available (from tensorflow.python.framework.test_util) is deprecated and will be removed in a future version.\n",
            "Instructions for updating:\n",
            "Use `tf.config.list_physical_devices('GPU')` instead.\n"
          ]
        },
        {
          "output_type": "execute_result",
          "data": {
            "text/plain": [
              "True"
            ]
          },
          "metadata": {},
          "execution_count": 4
        }
      ]
    },
    {
      "cell_type": "markdown",
      "source": [
        "## **Making Constant Variable**"
      ],
      "metadata": {
        "id": "RnpB2zxzWaKv"
      }
    },
    {
      "cell_type": "code",
      "source": [
        "k=tf.constant(42)"
      ],
      "metadata": {
        "id": "U0hoVyeKJf1G"
      },
      "execution_count": 5,
      "outputs": []
    },
    {
      "cell_type": "code",
      "source": [
        "k=tf.constant(1, dtype = tf.int64)"
      ],
      "metadata": {
        "id": "7tzDsLgIJ6fz"
      },
      "execution_count": 6,
      "outputs": []
    },
    {
      "cell_type": "code",
      "source": [
        "k.shape"
      ],
      "metadata": {
        "colab": {
          "base_uri": "https://localhost:8080/"
        },
        "id": "LAc_gL8rJ8-I",
        "outputId": "65e2d64b-b4e6-454a-92b8-979ca98563f5"
      },
      "execution_count": 7,
      "outputs": [
        {
          "output_type": "execute_result",
          "data": {
            "text/plain": [
              "TensorShape([])"
            ]
          },
          "metadata": {},
          "execution_count": 7
        }
      ]
    },
    {
      "cell_type": "code",
      "source": [
        "## Variable with List of lists\n",
        "\n",
        "a=tf.constant([[4,2],[9,5]])\n",
        "a"
      ],
      "metadata": {
        "id": "3KjvYDj6KHJE",
        "colab": {
          "base_uri": "https://localhost:8080/"
        },
        "outputId": "cb201691-4caa-441b-abbb-b0751d8cc017"
      },
      "execution_count": 8,
      "outputs": [
        {
          "output_type": "execute_result",
          "data": {
            "text/plain": [
              "<tf.Tensor: shape=(2, 2), dtype=int32, numpy=\n",
              "array([[4, 2],\n",
              "       [9, 5]], dtype=int32)>"
            ]
          },
          "metadata": {},
          "execution_count": 8
        }
      ]
    },
    {
      "cell_type": "code",
      "source": [
        "b=tf.constant(a)\n",
        "b"
      ],
      "metadata": {
        "id": "uweEavUpKKLN",
        "colab": {
          "base_uri": "https://localhost:8080/"
        },
        "outputId": "73a15ea1-0c2b-4036-f06c-a0d78e9270f7"
      },
      "execution_count": 9,
      "outputs": [
        {
          "output_type": "execute_result",
          "data": {
            "text/plain": [
              "<tf.Tensor: shape=(2, 2), dtype=int32, numpy=\n",
              "array([[4, 2],\n",
              "       [9, 5]], dtype=int32)>"
            ]
          },
          "metadata": {},
          "execution_count": 9
        }
      ]
    },
    {
      "cell_type": "code",
      "source": [
        "## Making a array of Ones using TensorFlow\n",
        "\n",
        "print(tf.ones(shape=(2,3)))"
      ],
      "metadata": {
        "colab": {
          "base_uri": "https://localhost:8080/"
        },
        "id": "EwBLOpubKOjz",
        "outputId": "62c93153-4577-4154-a43c-1483209e0372"
      },
      "execution_count": 10,
      "outputs": [
        {
          "output_type": "stream",
          "name": "stdout",
          "text": [
            "tf.Tensor(\n",
            "[[1. 1. 1.]\n",
            " [1. 1. 1.]], shape=(2, 3), dtype=float32)\n"
          ]
        }
      ]
    },
    {
      "cell_type": "code",
      "source": [
        "## Making a array of Zeros using TensorFlow\n",
        "\n",
        "print(tf.zeros(shape=(3,2)))"
      ],
      "metadata": {
        "colab": {
          "base_uri": "https://localhost:8080/"
        },
        "id": "KiRI444ZKW3x",
        "outputId": "cd40813d-981d-4018-d7ee-cd335128c52c"
      },
      "execution_count": 11,
      "outputs": [
        {
          "output_type": "stream",
          "name": "stdout",
          "text": [
            "tf.Tensor(\n",
            "[[0. 0.]\n",
            " [0. 0.]\n",
            " [0. 0.]], shape=(3, 2), dtype=float32)\n"
          ]
        }
      ]
    },
    {
      "cell_type": "markdown",
      "source": [
        "### **Adding Two Constant Variables**"
      ],
      "metadata": {
        "id": "pADQohRVXAvf"
      }
    },
    {
      "cell_type": "code",
      "source": [
        "a1 = tf.constant([[3,4,5], [3,4,5]])\n",
        "a2= tf.constant([[1,2,3], [1,2,3]])\n",
        "\n",
        "c=tf.add(a1,a2)\n"
      ],
      "metadata": {
        "id": "zdnqNTx3Kqrg"
      },
      "execution_count": 12,
      "outputs": []
    },
    {
      "cell_type": "code",
      "source": [
        "c"
      ],
      "metadata": {
        "colab": {
          "base_uri": "https://localhost:8080/"
        },
        "id": "XP9ooVTpLFBA",
        "outputId": "621ea11a-c013-4b58-c1a4-f6ec75395d09"
      },
      "execution_count": 13,
      "outputs": [
        {
          "output_type": "execute_result",
          "data": {
            "text/plain": [
              "<tf.Tensor: shape=(2, 3), dtype=int32, numpy=\n",
              "array([[4, 6, 8],\n",
              "       [4, 6, 8]], dtype=int32)>"
            ]
          },
          "metadata": {},
          "execution_count": 13
        }
      ]
    },
    {
      "cell_type": "code",
      "source": [
        "## A random array with normal distributiuon\n",
        "\n",
        "tf.random.normal(shape=(2,2),mean=0,stddev=1.0)"
      ],
      "metadata": {
        "colab": {
          "base_uri": "https://localhost:8080/"
        },
        "id": "mGTqAbUXLFqi",
        "outputId": "77b9fe7a-b6a3-4525-d274-c191da716ffa"
      },
      "execution_count": 14,
      "outputs": [
        {
          "output_type": "execute_result",
          "data": {
            "text/plain": [
              "<tf.Tensor: shape=(2, 2), dtype=float32, numpy=\n",
              "array([[0.135652 , 0.2257672],\n",
              "       [1.0865927, 0.8461299]], dtype=float32)>"
            ]
          },
          "metadata": {},
          "execution_count": 14
        }
      ]
    },
    {
      "cell_type": "code",
      "source": [
        "## A uniform array with min and max value defined\n",
        "\n",
        "tf.random.uniform(shape=(2,2),minval=0,maxval=10,dtype=tf.int32)"
      ],
      "metadata": {
        "colab": {
          "base_uri": "https://localhost:8080/"
        },
        "id": "lTInbTS7LQSd",
        "outputId": "8855db70-327d-4015-f853-609f71c778ac"
      },
      "execution_count": 15,
      "outputs": [
        {
          "output_type": "execute_result",
          "data": {
            "text/plain": [
              "<tf.Tensor: shape=(2, 2), dtype=int32, numpy=\n",
              "array([[9, 3],\n",
              "       [9, 7]], dtype=int32)>"
            ]
          },
          "metadata": {},
          "execution_count": 15
        }
      ]
    },
    {
      "cell_type": "markdown",
      "source": [
        "## ***Making a variable with TensorFlow***"
      ],
      "metadata": {
        "id": "MsuxfsrdXa0Z"
      }
    },
    {
      "cell_type": "code",
      "source": [
        "a=tf.Variable(23)\n",
        "a"
      ],
      "metadata": {
        "id": "jcKY8ygKLZtC",
        "colab": {
          "base_uri": "https://localhost:8080/"
        },
        "outputId": "1f74e1cd-fda8-430c-f724-d1c980157f31"
      },
      "execution_count": 16,
      "outputs": [
        {
          "output_type": "execute_result",
          "data": {
            "text/plain": [
              "<tf.Variable 'Variable:0' shape=() dtype=int32, numpy=23>"
            ]
          },
          "metadata": {},
          "execution_count": 16
        }
      ]
    },
    {
      "cell_type": "code",
      "source": [
        "a2=tf.Variable([23])\n",
        "a2"
      ],
      "metadata": {
        "id": "E3uQ3xw0LtUs",
        "colab": {
          "base_uri": "https://localhost:8080/"
        },
        "outputId": "c077f832-db59-473a-fb25-57fd44b9db43"
      },
      "execution_count": 17,
      "outputs": [
        {
          "output_type": "execute_result",
          "data": {
            "text/plain": [
              "<tf.Variable 'Variable:0' shape=(1,) dtype=int32, numpy=array([23], dtype=int32)>"
            ]
          },
          "metadata": {},
          "execution_count": 17
        }
      ]
    },
    {
      "cell_type": "code",
      "source": [
        "tensor = tf.Variable([ [ [10., 11., 12.], [13., 14., 15.] ], [ [16., 17., 18.], [19., 20., 21.] ] ]) # tensor variable\n",
        "print(tensor.shape)"
      ],
      "metadata": {
        "colab": {
          "base_uri": "https://localhost:8080/"
        },
        "id": "ZhF9IpI0L0av",
        "outputId": "34653f59-2be6-427f-c0bd-d41c4468ae50"
      },
      "execution_count": 18,
      "outputs": [
        {
          "output_type": "stream",
          "name": "stdout",
          "text": [
            "(2, 2, 3)\n"
          ]
        }
      ]
    },
    {
      "cell_type": "code",
      "source": [
        "tensor1 = tf.reshape(tensor,[2,6])"
      ],
      "metadata": {
        "id": "I0tOw5-XMDUK"
      },
      "execution_count": 19,
      "outputs": []
    },
    {
      "cell_type": "code",
      "source": [
        "tensor1"
      ],
      "metadata": {
        "colab": {
          "base_uri": "https://localhost:8080/"
        },
        "id": "dgr7dM0gMH_c",
        "outputId": "7f9a4ddb-41c4-49a2-9300-097dba8e25df"
      },
      "execution_count": 20,
      "outputs": [
        {
          "output_type": "execute_result",
          "data": {
            "text/plain": [
              "<tf.Tensor: shape=(2, 6), dtype=float32, numpy=\n",
              "array([[10., 11., 12., 13., 14., 15.],\n",
              "       [16., 17., 18., 19., 20., 21.]], dtype=float32)>"
            ]
          },
          "metadata": {},
          "execution_count": 20
        }
      ]
    },
    {
      "cell_type": "code",
      "source": [
        "tensor1.numpy()"
      ],
      "metadata": {
        "colab": {
          "base_uri": "https://localhost:8080/"
        },
        "id": "LsEFXrTVMJEL",
        "outputId": "fdfdab95-fe51-4972-d7fe-108cd4b47626"
      },
      "execution_count": 21,
      "outputs": [
        {
          "output_type": "execute_result",
          "data": {
            "text/plain": [
              "array([[10., 11., 12., 13., 14., 15.],\n",
              "       [16., 17., 18., 19., 20., 21.]], dtype=float32)"
            ]
          },
          "metadata": {},
          "execution_count": 21
        }
      ]
    }
  ]
}