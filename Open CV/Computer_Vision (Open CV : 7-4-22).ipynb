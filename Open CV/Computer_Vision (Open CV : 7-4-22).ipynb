{
 "cells": [
  {
   "cell_type": "code",
   "execution_count": 11,
   "id": "5cb01519",
   "metadata": {},
   "outputs": [],
   "source": [
    "import cv2"
   ]
  },
  {
   "cell_type": "markdown",
   "id": "82d2a75b",
   "metadata": {},
   "source": [
    "# **TO READ IMAGES**"
   ]
  },
  {
   "cell_type": "markdown",
   "id": "edd3033e",
   "metadata": {},
   "source": [
    "# "
   ]
  },
  {
   "cell_type": "code",
   "execution_count": 12,
   "id": "409cc4fa",
   "metadata": {},
   "outputs": [],
   "source": [
    "##To read a image file(file in the desktop folder)\n",
    "img = cv2.imread('first.jpg')"
   ]
  },
  {
   "cell_type": "code",
   "execution_count": 13,
   "id": "2b199f9a",
   "metadata": {
    "scrolled": false
   },
   "outputs": [],
   "source": [
    "cv2.imshow('window1', img)                  ## To show image('window name can be given as per you', variable with the image)\n",
    "cv2.waitKey(0)                              ## To enable the close button on the window, it not then the window won't close\n",
    "cv2.destroyAllWindows()                     ## To close all the other windows that are open"
   ]
  },
  {
   "cell_type": "code",
   "execution_count": 5,
   "id": "fc10e7aa",
   "metadata": {},
   "outputs": [
    {
     "data": {
      "text/plain": [
       "(1080, 1080, 3)"
      ]
     },
     "execution_count": 5,
     "metadata": {},
     "output_type": "execute_result"
    }
   ],
   "source": [
    "## img.shape shows th3e shape of image\n",
    "\n",
    "img.shape\n",
    "\n",
    "## The shape isw in the formation ('Height', 'Width', 'Channel')"
   ]
  },
  {
   "cell_type": "code",
   "execution_count": 6,
   "id": "56ad9ca7",
   "metadata": {
    "scrolled": false
   },
   "outputs": [
    {
     "data": {
      "text/plain": [
       "array([[[ 74,  34, 170],\n",
       "        [ 74,  34, 170],\n",
       "        [ 74,  34, 170],\n",
       "        ...,\n",
       "        [125,  30,  64],\n",
       "        [125,  30,  64],\n",
       "        [125,  30,  64]],\n",
       "\n",
       "       [[ 74,  34, 170],\n",
       "        [ 74,  34, 170],\n",
       "        [ 74,  34, 170],\n",
       "        ...,\n",
       "        [125,  30,  64],\n",
       "        [125,  30,  64],\n",
       "        [125,  30,  64]],\n",
       "\n",
       "       [[ 75,  35, 171],\n",
       "        [ 75,  35, 171],\n",
       "        [ 75,  35, 171],\n",
       "        ...,\n",
       "        [125,  30,  64],\n",
       "        [125,  30,  64],\n",
       "        [125,  30,  64]],\n",
       "\n",
       "       ...,\n",
       "\n",
       "       [[ 68,  13, 146],\n",
       "        [ 67,  12, 145],\n",
       "        [ 67,  12, 145],\n",
       "        ...,\n",
       "        [140,  32,  50],\n",
       "        [140,  32,  50],\n",
       "        [140,  32,  50]],\n",
       "\n",
       "       [[ 68,  13, 146],\n",
       "        [ 67,  12, 145],\n",
       "        [ 67,  12, 145],\n",
       "        ...,\n",
       "        [140,  32,  50],\n",
       "        [140,  32,  50],\n",
       "        [140,  32,  50]],\n",
       "\n",
       "       [[ 68,  13, 146],\n",
       "        [ 67,  12, 145],\n",
       "        [ 67,  12, 145],\n",
       "        ...,\n",
       "        [140,  32,  50],\n",
       "        [140,  32,  50],\n",
       "        [140,  32,  50]]], dtype=uint8)"
      ]
     },
     "execution_count": 6,
     "metadata": {},
     "output_type": "execute_result"
    }
   ],
   "source": [
    "img"
   ]
  },
  {
   "cell_type": "markdown",
   "id": "bbe776e1",
   "metadata": {},
   "source": [
    "# "
   ]
  },
  {
   "cell_type": "markdown",
   "id": "b17e2515",
   "metadata": {},
   "source": [
    "## *TO CONVERT THE FILE CHANNEL*"
   ]
  },
  {
   "cell_type": "code",
   "execution_count": null,
   "id": "b6823a7d",
   "metadata": {},
   "outputs": [],
   "source": [
    "##TO convert image from BGR to HSV (As open CV reads file in BGR default)\n",
    "img=cv2.cvtColor(img,cv2.COLOR_BGR2HSV)"
   ]
  },
  {
   "cell_type": "code",
   "execution_count": 9,
   "id": "4a54fc99",
   "metadata": {},
   "outputs": [],
   "source": [
    "cv2.imshow('window1', img)                  \n",
    "cv2.waitKey(0)                              \n",
    "cv2.destroyAllWindows()   "
   ]
  },
  {
   "cell_type": "code",
   "execution_count": 14,
   "id": "c41fb4b0",
   "metadata": {},
   "outputs": [],
   "source": [
    "Gray_Scale_img = cv2.cvtColor(img, cv2.COLOR_BGR2GRAY)"
   ]
  },
  {
   "cell_type": "code",
   "execution_count": 15,
   "id": "f5ec227d",
   "metadata": {},
   "outputs": [],
   "source": [
    "cv2.imshow('window1', Gray_Scale_img)                  \n",
    "cv2.waitKey(0)                              \n",
    "cv2.destroyAllWindows()   "
   ]
  },
  {
   "cell_type": "code",
   "execution_count": 17,
   "id": "adc30684",
   "metadata": {
    "scrolled": false
   },
   "outputs": [
    {
     "data": {
      "text/plain": [
       "(1080, 1080)"
      ]
     },
     "execution_count": 17,
     "metadata": {},
     "output_type": "execute_result"
    }
   ],
   "source": [
    "## The shape is decreased from 3D to 2D array, thus saving memory and making calculations easier\n",
    "Gray_Scale_img.shape"
   ]
  },
  {
   "cell_type": "code",
   "execution_count": 18,
   "id": "c775b57d",
   "metadata": {
    "scrolled": true
   },
   "outputs": [
    {
     "data": {
      "text/plain": [
       "array([[79, 79, 79, ..., 51, 51, 51],\n",
       "       [79, 79, 79, ..., 51, 51, 51],\n",
       "       [80, 80, 80, ..., 51, 51, 51],\n",
       "       ...,\n",
       "       [59, 58, 58, ..., 50, 50, 50],\n",
       "       [59, 58, 58, ..., 50, 50, 50],\n",
       "       [59, 58, 58, ..., 50, 50, 50]], dtype=uint8)"
      ]
     },
     "execution_count": 18,
     "metadata": {},
     "output_type": "execute_result"
    }
   ],
   "source": [
    "Gray_Scale_img"
   ]
  },
  {
   "cell_type": "markdown",
   "id": "e664360d",
   "metadata": {},
   "source": [
    "# "
   ]
  },
  {
   "cell_type": "markdown",
   "id": "575a7840",
   "metadata": {},
   "source": [
    "## *TO READ VIDEO*"
   ]
  },
  {
   "cell_type": "code",
   "execution_count": 20,
   "id": "3b6e0a09",
   "metadata": {},
   "outputs": [],
   "source": [
    "video = cv2.VideoCapture('video.mp4')"
   ]
  },
  {
   "cell_type": "code",
   "execution_count": null,
   "id": "e1477aa9",
   "metadata": {},
   "outputs": [],
   "source": []
  }
 ],
 "metadata": {
  "kernelspec": {
   "display_name": "Python 3 (ipykernel)",
   "language": "python",
   "name": "python3"
  },
  "language_info": {
   "codemirror_mode": {
    "name": "ipython",
    "version": 3
   },
   "file_extension": ".py",
   "mimetype": "text/x-python",
   "name": "python",
   "nbconvert_exporter": "python",
   "pygments_lexer": "ipython3",
   "version": "3.7.6"
  }
 },
 "nbformat": 4,
 "nbformat_minor": 5
}
