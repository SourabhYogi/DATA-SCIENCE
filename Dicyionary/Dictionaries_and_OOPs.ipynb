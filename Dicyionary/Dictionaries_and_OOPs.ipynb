{
  "nbformat": 4,
  "nbformat_minor": 0,
  "metadata": {
    "colab": {
      "name": "Dictionaries and OOPs.ipynb",
      "provenance": [],
      "collapsed_sections": [
        "iLs85YGdBjoe",
        "04Ej7-jnsBHJ",
        "darloEy9sSLu",
        "i8H3sMt_SI2L",
        "iqqFyVCLwuzq"
      ],
      "authorship_tag": "ABX9TyM3pH0hIzX+2JUrcoPnNmAk",
      "include_colab_link": true
    },
    "kernelspec": {
      "name": "python3",
      "display_name": "Python 3"
    },
    "language_info": {
      "name": "python"
    }
  },
  "cells": [
    {
      "cell_type": "markdown",
      "metadata": {
        "id": "view-in-github",
        "colab_type": "text"
      },
      "source": [
        "<a href=\"https://colab.research.google.com/github/SourabhYogi/DATA-SCIENCE/blob/main/Dictionaries_and_OOPs.ipynb\" target=\"_parent\"><img src=\"https://colab.research.google.com/assets/colab-badge.svg\" alt=\"Open In Colab\"/></a>"
      ]
    },
    {
      "cell_type": "markdown",
      "source": [
        "#**Dictionary**\n",
        "\n",
        "---\n",
        "\n",
        "\n",
        "\n",
        "* \n",
        "Dict =    {\n",
        "            'A':\"Sourabh,\n",
        "            'B':\"Ritik\"\n",
        "          }"
      ],
      "metadata": {
        "id": "iLs85YGdBjoe"
      }
    },
    {
      "cell_type": "code",
      "source": [
        "dict1={ 'a':\"Vaibhav\",\n",
        "        \"B\": \"Ritik\",\n",
        "        1 : 'Sourabh' }\n"
      ],
      "metadata": {
        "id": "0gP1oD9JBqzo"
      },
      "execution_count": null,
      "outputs": []
    },
    {
      "cell_type": "code",
      "source": [
        "dict1"
      ],
      "metadata": {
        "id": "f-rEI1e-ISja",
        "colab": {
          "base_uri": "https://localhost:8080/"
        },
        "outputId": "afc5230b-b4b5-40d3-8c89-26abf5346b2e"
      },
      "execution_count": null,
      "outputs": [
        {
          "output_type": "execute_result",
          "data": {
            "text/plain": [
              "{1: 'Sourabh', 'B': 'Ritik', 'a': 'Vaibhav'}"
            ]
          },
          "metadata": {},
          "execution_count": 75
        }
      ]
    },
    {
      "cell_type": "code",
      "source": [
        "dict1[4]=1234"
      ],
      "metadata": {
        "id": "r6dKNpO7-aPP"
      },
      "execution_count": null,
      "outputs": []
    },
    {
      "cell_type": "code",
      "source": [
        "dict1"
      ],
      "metadata": {
        "colab": {
          "base_uri": "https://localhost:8080/"
        },
        "id": "603avSwtAk3K",
        "outputId": "35712382-ccc3-4092-c4c9-373b75d19732"
      },
      "execution_count": null,
      "outputs": [
        {
          "output_type": "execute_result",
          "data": {
            "text/plain": [
              "{1: 'Sourabh', 4: 1234, 'B': 'Ritik', 'a': 'Vaibhav'}"
            ]
          },
          "metadata": {},
          "execution_count": 99
        }
      ]
    },
    {
      "cell_type": "code",
      "source": [
        "dict1[1][1]"
      ],
      "metadata": {
        "colab": {
          "base_uri": "https://localhost:8080/",
          "height": 35
        },
        "id": "LY9exCHIKMtG",
        "outputId": "d5a13dcc-64f2-4b0b-8dc4-662b3e186d1f"
      },
      "execution_count": null,
      "outputs": [
        {
          "output_type": "execute_result",
          "data": {
            "application/vnd.google.colaboratory.intrinsic+json": {
              "type": "string"
            },
            "text/plain": [
              "'o'"
            ]
          },
          "metadata": {},
          "execution_count": 102
        }
      ]
    },
    {
      "cell_type": "code",
      "source": [
        "dict1[2]=(1,2,3)\n"
      ],
      "metadata": {
        "id": "Hxb2oXGnSu7N"
      },
      "execution_count": null,
      "outputs": []
    },
    {
      "cell_type": "code",
      "source": [
        "type(dict1[2])"
      ],
      "metadata": {
        "colab": {
          "base_uri": "https://localhost:8080/"
        },
        "id": "40S_nwK6Txu1",
        "outputId": "39ca06a7-5fb5-4e06-f81b-8d716bc869ac"
      },
      "execution_count": null,
      "outputs": [
        {
          "output_type": "execute_result",
          "data": {
            "text/plain": [
              "tuple"
            ]
          },
          "metadata": {},
          "execution_count": 105
        }
      ]
    },
    {
      "cell_type": "code",
      "source": [
        "dict1[3]=[1,2,3,4,5]"
      ],
      "metadata": {
        "id": "8lPEEXfDT4a9"
      },
      "execution_count": null,
      "outputs": []
    },
    {
      "cell_type": "code",
      "source": [
        "type(dict1[3])"
      ],
      "metadata": {
        "colab": {
          "base_uri": "https://localhost:8080/"
        },
        "id": "xNRSTqrEUCXN",
        "outputId": "aa220de3-03ee-4958-998b-7e182a819172"
      },
      "execution_count": null,
      "outputs": [
        {
          "output_type": "execute_result",
          "data": {
            "text/plain": [
              "list"
            ]
          },
          "metadata": {},
          "execution_count": 107
        }
      ]
    },
    {
      "cell_type": "code",
      "source": [
        "dict1"
      ],
      "metadata": {
        "colab": {
          "base_uri": "https://localhost:8080/"
        },
        "id": "rRn1o2T1UGqb",
        "outputId": "5c013ef2-09b8-4020-f4b2-dea9fb65f21e"
      },
      "execution_count": null,
      "outputs": [
        {
          "output_type": "execute_result",
          "data": {
            "text/plain": [
              "{1: 'Sourabh',\n",
              " 2: (1, 2, 3),\n",
              " 3: [1, 2, 3, 4, 5],\n",
              " 4: 1234,\n",
              " 'B': 'Ritik',\n",
              " 'a': 'Vaibhav'}"
            ]
          },
          "metadata": {},
          "execution_count": 108
        }
      ]
    },
    {
      "cell_type": "code",
      "source": [
        "dict1[3][0]"
      ],
      "metadata": {
        "colab": {
          "base_uri": "https://localhost:8080/"
        },
        "id": "hHtqiEbCUInL",
        "outputId": "7561ca11-dd6e-4d79-d8f4-b0333ca8a8c6"
      },
      "execution_count": null,
      "outputs": [
        {
          "output_type": "execute_result",
          "data": {
            "text/plain": [
              "1"
            ]
          },
          "metadata": {},
          "execution_count": 112
        }
      ]
    },
    {
      "cell_type": "code",
      "source": [
        "dict1[5]={'a':'yogi','b':'balyan'}"
      ],
      "metadata": {
        "id": "UtGXkcagUPAt"
      },
      "execution_count": null,
      "outputs": []
    },
    {
      "cell_type": "code",
      "source": [
        "dict1[5]['a']"
      ],
      "metadata": {
        "colab": {
          "base_uri": "https://localhost:8080/",
          "height": 35
        },
        "id": "tUeL1cV3UtSg",
        "outputId": "1858fe0c-e911-447c-f947-8136e6b4bb15"
      },
      "execution_count": null,
      "outputs": [
        {
          "output_type": "execute_result",
          "data": {
            "application/vnd.google.colaboratory.intrinsic+json": {
              "type": "string"
            },
            "text/plain": [
              "'yogi'"
            ]
          },
          "metadata": {},
          "execution_count": 118
        }
      ]
    },
    {
      "cell_type": "code",
      "source": [
        "dict1"
      ],
      "metadata": {
        "colab": {
          "base_uri": "https://localhost:8080/"
        },
        "id": "Loe1VMC2U0ps",
        "outputId": "39fb586a-2bec-4fcd-d218-7cb0e3d7387b"
      },
      "execution_count": null,
      "outputs": [
        {
          "output_type": "execute_result",
          "data": {
            "text/plain": [
              "{1: 'Sourabh',\n",
              " 2: (1, 2, 3),\n",
              " 3: [1, 2, 3, 4, 5],\n",
              " 4: 1234,\n",
              " 5: {'a': 'yogi', 'b': 'balyan'},\n",
              " 'B': 'Ritik',\n",
              " 'a': 'Vaibhav'}"
            ]
          },
          "metadata": {},
          "execution_count": 119
        }
      ]
    },
    {
      "cell_type": "code",
      "source": [
        "dict1[6]={'a','b','c','d',\"Yogi\"}"
      ],
      "metadata": {
        "id": "CNHrrl5WVIqs"
      },
      "execution_count": null,
      "outputs": []
    },
    {
      "cell_type": "code",
      "source": [
        "type(dict1[6])"
      ],
      "metadata": {
        "colab": {
          "base_uri": "https://localhost:8080/"
        },
        "id": "5thSYwOoVi1f",
        "outputId": "dfeac0ce-1302-4624-b138-8a9a836420d8"
      },
      "execution_count": null,
      "outputs": [
        {
          "output_type": "execute_result",
          "data": {
            "text/plain": [
              "set"
            ]
          },
          "metadata": {},
          "execution_count": 123
        }
      ]
    },
    {
      "cell_type": "code",
      "source": [
        "dict1"
      ],
      "metadata": {
        "colab": {
          "base_uri": "https://localhost:8080/"
        },
        "id": "lb7fGFGNVvXh",
        "outputId": "c6d3190a-842a-4f9d-e510-faaf3a44d6c9"
      },
      "execution_count": null,
      "outputs": [
        {
          "output_type": "execute_result",
          "data": {
            "text/plain": [
              "{1: 'Sourabh',\n",
              " 2: (1, 2, 3),\n",
              " 3: [1, 2, 3, 4, 5],\n",
              " 4: 1234,\n",
              " 5: {'a': 'yogi', 'b': 'balyan'},\n",
              " 6: {'a', 'b', 'c', 'd'},\n",
              " 'B': 'Ritik',\n",
              " 'a': 'Vaibhav'}"
            ]
          },
          "metadata": {},
          "execution_count": 124
        }
      ]
    },
    {
      "cell_type": "code",
      "source": [
        "dict1[6]"
      ],
      "metadata": {
        "colab": {
          "base_uri": "https://localhost:8080/"
        },
        "id": "Asw9kC8cV2Jz",
        "outputId": "2093700c-756b-4dbc-a350-2c7a6a125480"
      },
      "execution_count": null,
      "outputs": [
        {
          "output_type": "execute_result",
          "data": {
            "text/plain": [
              "{'Yogi', 'a', 'b', 'c', 'd'}"
            ]
          },
          "metadata": {},
          "execution_count": 132
        }
      ]
    },
    {
      "cell_type": "code",
      "source": [
        "dict1[3][1]=\"Yogi\""
      ],
      "metadata": {
        "id": "lS0kEg_1V9lc"
      },
      "execution_count": null,
      "outputs": []
    },
    {
      "cell_type": "code",
      "source": [
        "dict1"
      ],
      "metadata": {
        "colab": {
          "base_uri": "https://localhost:8080/"
        },
        "id": "mEEUZ1ueWgkw",
        "outputId": "0387046c-28f3-4ffd-bd1b-29bcad32f2f5"
      },
      "execution_count": null,
      "outputs": [
        {
          "output_type": "execute_result",
          "data": {
            "text/plain": [
              "{1: 'Sourabh',\n",
              " 2: (1, 2, 3),\n",
              " 3: [1, 'Yogi', 3, 4, 5],\n",
              " 4: 1234,\n",
              " 5: {'a': 'yogi', 'b': 'balyan'},\n",
              " 6: {'Yogi', 'a', 'b', 'c', 'd'},\n",
              " 'B': 'Ritik',\n",
              " 'a': 'Vaibhav'}"
            ]
          },
          "metadata": {},
          "execution_count": 134
        }
      ]
    },
    {
      "cell_type": "code",
      "source": [
        "del dict1[3][1]"
      ],
      "metadata": {
        "id": "QzXxSgfKWhvy"
      },
      "execution_count": null,
      "outputs": []
    },
    {
      "cell_type": "code",
      "source": [
        "dict1"
      ],
      "metadata": {
        "colab": {
          "base_uri": "https://localhost:8080/"
        },
        "id": "Lkfkz13kW06H",
        "outputId": "968f8858-ad62-4926-c1ab-6dc89187ad88"
      },
      "execution_count": null,
      "outputs": [
        {
          "output_type": "execute_result",
          "data": {
            "text/plain": [
              "{1: 'Sourabh',\n",
              " 2: (1, 2, 3),\n",
              " 3: [1, 3, 4, 5],\n",
              " 5: {'a': 'yogi', 'b': 'balyan'},\n",
              " 6: {'Yogi', 'a', 'b', 'c', 'd'},\n",
              " 'B': 'Ritik',\n",
              " 'a': 'Vaibhav'}"
            ]
          },
          "metadata": {},
          "execution_count": 148
        }
      ]
    },
    {
      "cell_type": "code",
      "source": [
        "del dict1[5]['a']"
      ],
      "metadata": {
        "id": "X63LccLGYGmm"
      },
      "execution_count": null,
      "outputs": []
    },
    {
      "cell_type": "code",
      "source": [
        "del dict1[5]"
      ],
      "metadata": {
        "id": "DOLLaDfGYePF"
      },
      "execution_count": null,
      "outputs": []
    },
    {
      "cell_type": "code",
      "source": [
        "dict1"
      ],
      "metadata": {
        "colab": {
          "base_uri": "https://localhost:8080/"
        },
        "id": "iNEfjm7uYkPl",
        "outputId": "6164c25e-f12c-4027-f07e-14c46337854d"
      },
      "execution_count": null,
      "outputs": [
        {
          "output_type": "execute_result",
          "data": {
            "text/plain": [
              "{1: 'Sourabh', 2: (1, 2, 3), 3: [1, 3, 4, 5], 'B': 'Ritik', 'a': 'Vaibhav'}"
            ]
          },
          "metadata": {},
          "execution_count": 158
        }
      ]
    },
    {
      "cell_type": "code",
      "source": [
        "del dict1[2 and 3]"
      ],
      "metadata": {
        "id": "7C25TC_oYxlr"
      },
      "execution_count": null,
      "outputs": []
    },
    {
      "cell_type": "code",
      "source": [
        "dict1\n"
      ],
      "metadata": {
        "colab": {
          "base_uri": "https://localhost:8080/"
        },
        "id": "tmRigO9LZIp4",
        "outputId": "19557bcf-bae2-43b3-89e7-e3e98333f4cd"
      },
      "execution_count": null,
      "outputs": [
        {
          "output_type": "execute_result",
          "data": {
            "text/plain": [
              "{1: 'Sourabh', 2: (1, 2, 3), 'B': 'Ritik', 'a': 'Vaibhav'}"
            ]
          },
          "metadata": {},
          "execution_count": 162
        }
      ]
    },
    {
      "cell_type": "code",
      "source": [
        "del dict1[2]"
      ],
      "metadata": {
        "id": "EezaqbwjZWC5"
      },
      "execution_count": null,
      "outputs": []
    },
    {
      "cell_type": "code",
      "source": [
        "dict1"
      ],
      "metadata": {
        "colab": {
          "base_uri": "https://localhost:8080/"
        },
        "id": "z_UBbNI5ZZr-",
        "outputId": "5eba58f6-4fb0-4bb4-9c94-2ea1f7e1808c"
      },
      "execution_count": null,
      "outputs": [
        {
          "output_type": "execute_result",
          "data": {
            "text/plain": [
              "{1: 'Sourabh', 'B': 'Ritik', 'a': 'Vaibhav'}"
            ]
          },
          "metadata": {},
          "execution_count": 165
        }
      ]
    },
    {
      "cell_type": "code",
      "source": [
        "dict1.keys()"
      ],
      "metadata": {
        "colab": {
          "base_uri": "https://localhost:8080/"
        },
        "id": "hKjoWdytZcKi",
        "outputId": "20d1b898-fdd5-4291-ae20-cb5a0f66f16e"
      },
      "execution_count": null,
      "outputs": [
        {
          "output_type": "execute_result",
          "data": {
            "text/plain": [
              "dict_keys(['a', 'B', 1])"
            ]
          },
          "metadata": {},
          "execution_count": 170
        }
      ]
    },
    {
      "cell_type": "code",
      "source": [
        "dict2={ 1:'Yogi',\n",
        "       2:'Baliyan',\n",
        "       3:'Gupta'\n",
        "       }"
      ],
      "metadata": {
        "id": "k_x83kS1aLpC"
      },
      "execution_count": null,
      "outputs": []
    },
    {
      "cell_type": "code",
      "source": [
        "dict2"
      ],
      "metadata": {
        "colab": {
          "base_uri": "https://localhost:8080/"
        },
        "id": "ZKRKDYhVath9",
        "outputId": "0e5f5a53-5730-41b9-8d8f-0df686b32022"
      },
      "execution_count": null,
      "outputs": [
        {
          "output_type": "execute_result",
          "data": {
            "text/plain": [
              "{1: 'Yogi', 2: 'Baliyan', 3: 'Gupta'}"
            ]
          },
          "metadata": {},
          "execution_count": 258
        }
      ]
    },
    {
      "cell_type": "code",
      "source": [
        "\n",
        "for key,value in dict2.items():\n",
        "  \n",
        "      if value == 'Gupta':\n",
        "            del dict2[key]\n",
        "            break\n"
      ],
      "metadata": {
        "id": "bqXmoWK2da-I"
      },
      "execution_count": null,
      "outputs": []
    },
    {
      "cell_type": "code",
      "source": [
        "dict2"
      ],
      "metadata": {
        "colab": {
          "base_uri": "https://localhost:8080/"
        },
        "id": "FGujenx8eCtm",
        "outputId": "76736606-55b8-40de-cf4e-bd3efd71cb85"
      },
      "execution_count": null,
      "outputs": [
        {
          "output_type": "execute_result",
          "data": {
            "text/plain": [
              "{1: 'Yogi', 2: 'Baliyan'}"
            ]
          },
          "metadata": {},
          "execution_count": 261
        }
      ]
    },
    {
      "cell_type": "code",
      "source": [
        "dict3={ 'A': 1,\n",
        "       `'B': [1,2,3],\n",
        "       `'C': 'Yogi'\n",
        "}"
      ],
      "metadata": {
        "id": "pCxcWXNYgiH7"
      },
      "execution_count": null,
      "outputs": []
    },
    {
      "cell_type": "code",
      "source": [
        "for i in dict3.items():\n",
        "  print(i)"
      ],
      "metadata": {
        "colab": {
          "base_uri": "https://localhost:8080/"
        },
        "id": "kPeVQnhphcOV",
        "outputId": "d3cd8838-2e09-416a-e301-8a7158cb6120"
      },
      "execution_count": null,
      "outputs": [
        {
          "output_type": "stream",
          "name": "stdout",
          "text": [
            "('A', 1)\n",
            "('B', [1, 2, 3])\n",
            "('C', 'Yogi')\n"
          ]
        }
      ]
    },
    {
      "cell_type": "code",
      "source": [
        "for i in zip(dict3.keys(),dict3.values()):\n",
        "  print(i)"
      ],
      "metadata": {
        "colab": {
          "base_uri": "https://localhost:8080/"
        },
        "id": "uIj_h74BhiI1",
        "outputId": "ff75756a-e680-4c0c-f886-e6ccb67e26e5"
      },
      "execution_count": null,
      "outputs": [
        {
          "output_type": "stream",
          "name": "stdout",
          "text": [
            "('A', 1)\n",
            "('B', [1, 2, 3])\n",
            "('C', 'Yogi')\n"
          ]
        }
      ]
    },
    {
      "cell_type": "code",
      "source": [
        "number= int(input(\"Enter Your Number:\"))\n",
        "dict4={}\n",
        "for i in range (1,number+1): \n",
        "  dict4[i]=i*i\n",
        "dict4\n",
        "    "
      ],
      "metadata": {
        "id": "-o2kQcKriqNA",
        "colab": {
          "base_uri": "https://localhost:8080/"
        },
        "outputId": "5537826a-43ec-426e-d2b2-64293ecace31"
      },
      "execution_count": null,
      "outputs": [
        {
          "name": "stdout",
          "output_type": "stream",
          "text": [
            "Enter Your Number:4\n"
          ]
        },
        {
          "output_type": "execute_result",
          "data": {
            "text/plain": [
              "{1: 1, 2: 4, 3: 9, 4: 16}"
            ]
          },
          "metadata": {},
          "execution_count": 58
        }
      ]
    },
    {
      "cell_type": "code",
      "source": [
        "number= int (input())\n",
        "dict5={i:i*i for i in range(1, number+1)}\n",
        "\n",
        "dict5\n"
      ],
      "metadata": {
        "colab": {
          "base_uri": "https://localhost:8080/"
        },
        "id": "FbKORWgteX1e",
        "outputId": "5cf65143-1ecc-46fb-fc3e-198402af6d1f"
      },
      "execution_count": null,
      "outputs": [
        {
          "name": "stdout",
          "output_type": "stream",
          "text": [
            "8\n"
          ]
        },
        {
          "output_type": "execute_result",
          "data": {
            "text/plain": [
              "{1: 1, 2: 4, 3: 9, 4: 16, 5: 25, 6: 36, 7: 49, 8: 64}"
            ]
          },
          "metadata": {},
          "execution_count": 38
        }
      ]
    },
    {
      "cell_type": "markdown",
      "source": [
        "##Input In Python\n",
        " * String\n",
        " * Integer"
      ],
      "metadata": {
        "id": "04Ej7-jnsBHJ"
      }
    },
    {
      "cell_type": "code",
      "source": [
        "string= str(input(\"My Name Is:\"))\n"
      ],
      "metadata": {
        "colab": {
          "base_uri": "https://localhost:8080/"
        },
        "id": "agwjmc8CekA5",
        "outputId": "3fcf926f-39f7-46a2-e599-615077c59373"
      },
      "execution_count": null,
      "outputs": [
        {
          "name": "stdout",
          "output_type": "stream",
          "text": [
            "My Name Is:Sourabh Yogi\n"
          ]
        }
      ]
    },
    {
      "cell_type": "code",
      "source": [
        "Num1= int(input())\n",
        "Num1"
      ],
      "metadata": {
        "colab": {
          "base_uri": "https://localhost:8080/"
        },
        "id": "Ot3N6U-5kHVT",
        "outputId": "951fdbdb-e46d-44dd-fa32-f5da0982e90b"
      },
      "execution_count": null,
      "outputs": [
        {
          "name": "stdout",
          "output_type": "stream",
          "text": [
            "25\n"
          ]
        },
        {
          "output_type": "execute_result",
          "data": {
            "text/plain": [
              "25"
            ]
          },
          "metadata": {},
          "execution_count": 46
        }
      ]
    },
    {
      "cell_type": "markdown",
      "source": [
        "##Programme to print sum of dictionary values and keys"
      ],
      "metadata": {
        "id": "darloEy9sSLu"
      }
    },
    {
      "cell_type": "code",
      "source": [
        "#Sum of Values\n",
        " dict7={i:i*i for i in range (1,10)}\n",
        " print(dict7)\n",
        " sum(dict7.values())"
      ],
      "metadata": {
        "colab": {
          "base_uri": "https://localhost:8080/"
        },
        "id": "GxWIiCJ1r5Zc",
        "outputId": "bdf9c700-d7f3-4ade-d13e-911d697a3ed1"
      },
      "execution_count": null,
      "outputs": [
        {
          "output_type": "stream",
          "name": "stdout",
          "text": [
            "{1: 1, 2: 4, 3: 9, 4: 16, 5: 25, 6: 36, 7: 49, 8: 64, 9: 81}\n"
          ]
        },
        {
          "output_type": "execute_result",
          "data": {
            "text/plain": [
              "285"
            ]
          },
          "metadata": {},
          "execution_count": 48
        }
      ]
    },
    {
      "cell_type": "code",
      "source": [
        " #Sum of Keys\n",
        " dict7={i:i*i for i in range (1,10)}\n",
        " print(dict7)\n",
        " sum(dict7.keys())"
      ],
      "metadata": {
        "colab": {
          "base_uri": "https://localhost:8080/"
        },
        "id": "2Ny7sokwuVXo",
        "outputId": "9a910295-fd3d-4037-ee53-23dc61aa0ae2"
      },
      "execution_count": null,
      "outputs": [
        {
          "output_type": "stream",
          "name": "stdout",
          "text": [
            "{1: 1, 2: 4, 3: 9, 4: 16, 5: 25, 6: 36, 7: 49, 8: 64, 9: 81}\n"
          ]
        },
        {
          "output_type": "execute_result",
          "data": {
            "text/plain": [
              "45"
            ]
          },
          "metadata": {},
          "execution_count": 49
        }
      ]
    },
    {
      "cell_type": "code",
      "source": [
        "#Sum of Both\n",
        "dict7={i:i*i for i in range (1,10)}\n",
        "print(dict7)\n",
        "sum1=sum(dict7.values())\n",
        "sum2=sum(dict7.keys())\n",
        "print(sum1,\"$\",sum2)"
      ],
      "metadata": {
        "colab": {
          "base_uri": "https://localhost:8080/"
        },
        "id": "oqGjq75UvIP4",
        "outputId": "535ca186-44b6-4452-af94-0574202c893d"
      },
      "execution_count": null,
      "outputs": [
        {
          "output_type": "stream",
          "name": "stdout",
          "text": [
            "{1: 1, 2: 4, 3: 9, 4: 16, 5: 25, 6: 36, 7: 49, 8: 64, 9: 81}\n",
            "285 $ 45\n"
          ]
        }
      ]
    },
    {
      "cell_type": "markdown",
      "source": [
        "#Dictionary Functions\n",
        "\n",
        "  * Clear()    : Removes all the elements from the dictionary\n",
        "  * Copy()     : Returns a copy of the dictionary\n",
        "  * fromkeys() : Returns a dictionary with the specified keys and value\n",
        "  * get()\t     : Returns the value of the specified key\n",
        "  * items()    : Returns a list containing a tuple for each key value pair\n",
        "  * keys()\t   : Returns a list containing the dictionary's keys\n",
        "  * pop()\t     : Removes the element with the specified key\n",
        "  * popitem()\t : Removes the last inserted key-value pair\n",
        "  * setdefault() : Returns the value of the specified key.If the key does  not exist: insert the key, with the specified value\n",
        "  * update()\t : Updates the dictionary with the specified key-value pairs\n",
        "  * values()\t : Returns a list of all the values in the dictionary"
      ],
      "metadata": {
        "id": "i8H3sMt_SI2L"
      }
    },
    {
      "cell_type": "code",
      "source": [
        "dict11=dict(A ='Y', B='O', C='G', D='I')\n",
        "dict11\n"
      ],
      "metadata": {
        "colab": {
          "base_uri": "https://localhost:8080/"
        },
        "id": "trvXdoJiSJ-M",
        "outputId": "4dbf485b-a939-4a5c-c3bb-b694c852224f"
      },
      "execution_count": null,
      "outputs": [
        {
          "output_type": "execute_result",
          "data": {
            "text/plain": [
              "{'A': 'Y', 'B': 'O', 'C': 'G', 'D': 'I'}"
            ]
          },
          "metadata": {},
          "execution_count": 12
        }
      ]
    },
    {
      "cell_type": "markdown",
      "source": [
        "#TRY, EXCEPT, FINALLY"
      ],
      "metadata": {
        "id": "iqqFyVCLwuzq"
      }
    },
    {
      "cell_type": "code",
      "source": [
        "try:\n",
        "  a=5\n",
        "  b=10\n",
        "  c=a/0                 ##It'll give zero division error, so to avoid the error the next code in except statement will run\n",
        "  print('thara bhai')\n",
        "except:\n",
        "  print(\"nhi hoga\")\n",
        "else:\n",
        "  print('else wala hoga' )\n",
        "finally:\n",
        "  print('ye to print hoga hi')\n"
      ],
      "metadata": {
        "colab": {
          "base_uri": "https://localhost:8080/"
        },
        "id": "5tGK-7Jjzw_h",
        "outputId": "c742b513-8bab-4f1d-8ec9-2ad38f10f7f8"
      },
      "execution_count": null,
      "outputs": [
        {
          "output_type": "stream",
          "name": "stdout",
          "text": [
            "nhi hoga\n",
            "ye to print hoga hi\n"
          ]
        }
      ]
    },
    {
      "cell_type": "code",
      "source": [
        "try:\n",
        "  a=5\n",
        "  b=10\n",
        "  c=b//a                        ##now this statement is right so it'll be executed with no problem\n",
        "  print(c)\n",
        "  print('thara bhai')\n",
        "except:\n",
        "  print(\"nhi hoga\")\n",
        "else:\n",
        "  print('else wala hoga' )\n",
        "finally:\n",
        "  print('ye to print hoga hi')"
      ],
      "metadata": {
        "id": "iUP5fHK11ANl",
        "colab": {
          "base_uri": "https://localhost:8080/"
        },
        "outputId": "95f8917b-e8a2-405f-b05a-0b2241523ed0"
      },
      "execution_count": null,
      "outputs": [
        {
          "output_type": "stream",
          "name": "stdout",
          "text": [
            "2\n",
            "thara bhai\n",
            "else wala hoga\n",
            "ye to print hoga hi\n"
          ]
        }
      ]
    },
    {
      "cell_type": "code",
      "source": [
        "try:\n",
        "  a=5\n",
        "  b=10\n",
        "  pint(a)                         ##This will give error, so this will be avoided\n",
        "  print('thara bhai')\n",
        "except:\n",
        "  print(\"nhi hoga\")\n",
        "else:\n",
        "  print('else wala hoga' )\n",
        "finally:\n",
        "  print('ye to print hoga hi')"
      ],
      "metadata": {
        "colab": {
          "base_uri": "https://localhost:8080/"
        },
        "id": "-h0KnebxYwWw",
        "outputId": "ed3fe6b7-604b-4354-d6d0-76fc1e7dc6d4"
      },
      "execution_count": null,
      "outputs": [
        {
          "output_type": "stream",
          "name": "stdout",
          "text": [
            "nhi hoga\n",
            "ye to print hoga hi\n"
          ]
        }
      ]
    },
    {
      "cell_type": "code",
      "source": [
        ""
      ],
      "metadata": {
        "id": "SBCNc8qQY8la"
      },
      "execution_count": null,
      "outputs": []
    },
    {
      "cell_type": "markdown",
      "source": [
        "#Object Oriented Programming (OOPs)\n",
        "\n",
        "## %  Class\n"
      ],
      "metadata": {
        "id": "uQBBSqdIZts3"
      }
    },
    {
      "cell_type": "code",
      "source": [
        "class Phone1:                                       ##The forst word of class name is in Caps\n",
        "  a=10\n",
        "  b=5\n",
        "  def video(self):                                  ##This def is must to make a function. : self is a word that makes the function accessible, \n",
        "    print('The phone has video call feature')       ## We can use any othwe word instead of self here\n",
        "    print(self.a) \n",
        "     \n",
        "p1=Phone1()                                         ## To store the class in object p1                "
      ],
      "metadata": {
        "id": "e4EZ1PqSaBg2"
      },
      "execution_count": null,
      "outputs": []
    },
    {
      "cell_type": "code",
      "source": [
        "p1.a                                                   ## Accessing the a variable of class"
      ],
      "metadata": {
        "colab": {
          "base_uri": "https://localhost:8080/"
        },
        "id": "4YcPiPerptEQ",
        "outputId": "b10a7de6-15fe-49a5-cfbb-9c1810fc8465"
      },
      "execution_count": null,
      "outputs": [
        {
          "output_type": "execute_result",
          "data": {
            "text/plain": [
              "10"
            ]
          },
          "metadata": {},
          "execution_count": 85
        }
      ]
    },
    {
      "cell_type": "code",
      "source": [
        "p1.video()                                             ## Accessing the function video() of the class"
      ],
      "metadata": {
        "colab": {
          "base_uri": "https://localhost:8080/"
        },
        "id": "qDGYbZIop88t",
        "outputId": "fde741b2-65e6-4ed9-ab00-a94a9e2d89bb"
      },
      "execution_count": null,
      "outputs": [
        {
          "output_type": "stream",
          "name": "stdout",
          "text": [
            "The phone has video call feature\n",
            "10\n"
          ]
        }
      ]
    },
    {
      "cell_type": "code",
      "source": [
        "class Phone3:                                         \n",
        "    def __init__(yogi, RAM, Colour):         ## __init__ is a predefined keyword that is used to take variable by the users      \n",
        "      yogi.ram=RAM                           ## i.e. variables that are not assigned a value like a=10 etc(here I've taken yogi instead of self)\n",
        "      yogi.c=Colour                          ## Here ram and c are the variables that store input value fron user \n",
        "    def print(self):\n",
        "      print(\"the phone has \" + self.ram + \" RAM and colour is \" + self.c)\n"
      ],
      "metadata": {
        "id": "4DSBCS0Jt758"
      },
      "execution_count": null,
      "outputs": []
    },
    {
      "cell_type": "code",
      "source": [
        "p3=Phone3(\"12GB\",\"Black\")\n"
      ],
      "metadata": {
        "colab": {
          "base_uri": "https://localhost:8080/"
        },
        "id": "jml4OBb4vjPI",
        "outputId": "2c55a542-e64e-4ba9-a54d-86275f02d3a1"
      },
      "execution_count": null,
      "outputs": [
        {
          "output_type": "stream",
          "name": "stdout",
          "text": [
            "the phone has 12GB RAM and colour is Black\n"
          ]
        }
      ]
    },
    {
      "cell_type": "code",
      "source": [
        ""
      ],
      "metadata": {
        "colab": {
          "base_uri": "https://localhost:8080/"
        },
        "id": "h6fK4tFxvlQr",
        "outputId": "4851cfce-b9e8-42ab-c90c-f286e6f02766"
      },
      "execution_count": null,
      "outputs": [
        {
          "output_type": "stream",
          "name": "stdout",
          "text": [
            "the phone has 12GB RAM and colour is Black\n"
          ]
        }
      ]
    },
    {
      "cell_type": "code",
      "source": [
        ""
      ],
      "metadata": {
        "id": "M8-MZ6NIv9PC"
      },
      "execution_count": null,
      "outputs": []
    }
  ]
}
